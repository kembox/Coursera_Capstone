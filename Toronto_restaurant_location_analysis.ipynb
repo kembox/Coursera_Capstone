{
 "cells": [
  {
   "cell_type": "markdown",
   "metadata": {},
   "source": [
    "# 1. Introduction \n",
    "\n",
    "This notebook will walk you through some steps to find a suitable location to open a restaurant in Toronto, Canada based on Foursquare venues database. \n",
    "\n",
    "\n",
    "## Audience\n",
    "\n",
    "People who are interested in opening a restaurant in Toronto\n",
    "\n",
    "## Problem to solve: how to find a suitable place to open my  restaurant ? \n",
    "\n",
    "### Things to consider \n",
    "\n",
    "Besides menu, food quality, special recipe, space size or decoration concept, location plays a very important part to your success as a restaurant owner. There's no silver bullet to solve the \"where 's the best place for my restaurent?\", of course, but we can give you some insights that you then choose it yourself. Because at the end of the day, it all depends on your restaurant concept and your targeted customer. \n",
    "\n",
    "Basically, our location research should cover following things:\n",
    "\n",
    "#### a.  Visibility \n",
    "\n",
    "Easy to notice, easy to find ( both on real life and location mobile applitions ). In your early days, a nearby popular venue should be very helpful.  \n",
    "\n",
    "#### b.  Accessibility\n",
    "\n",
    "It should be easy for people to get there by different kinds of transportation methods. Your customer base will be bigger if you have this advantage. Even when you own a car, you still want to use public transportation service sometimes to avoid the parking issue ( or you're just too lazy ). \n",
    "\n",
    "On the other side, talking about accessibility, a restaurant should be in a convenient place for their supplier ( Eg: raw material ) as well. You don't want to cross half way around the city to buy some basic ingredients in urgent case. \n",
    "\n",
    "#### c. Parking lot issue\n",
    "\n",
    "Very important. No matter how good your the food is, If I have to spend more than 15 mins to find the parking lot or walk for more 500m before entering your restaurant, I'll be very annoying after all. \n",
    "A place near by a parking lot is perfect but a neighbor hotel should be ok to make a deal with you to share their parking service. \n",
    "\n",
    "#### d. Potential customer base nearby\n",
    "\n",
    "A restaurant which server dinner ( casual or fine ) should be close to residence area. Bistro should be close to office. Crowded places like metro, train station, bus stop..are good places for fast food. \n",
    "Or after all, in general, more people, more traffic, more chances that someone will visit your restaurent. You definitely don't want to open your restaurant in a cave. \n",
    "\n",
    "#### e. The competitors nearby \n",
    "\n",
    "If there are 20 restaurants with the same concept as yours within a 1 km radius already, you must be very ambitious and invest much more money/effort to get your bite. On the other hand, if there's no such restaurant of the same type yet, maybe peole in this area don't really like such kind of food ? \n",
    "\n",
    "Knowing the competitors nearby can be very helpful for your business strategy.\n",
    "\n"
   ]
  },
  {
   "cell_type": "markdown",
   "metadata": {},
   "source": [
    "# 2. Data\n",
    "### Propose solution by using foursquare location database\n",
    "\n",
    "Follow our previous research about [Toronto neighborhood](https://github.com/kembox/Coursera_Capstone/blob/master/toronto_neighborhoods.ipynb) , we'll reuse location data for Toronto borough/neighborhood to feed to foursquare [search API](https://developer.foursquare.com/docs/api/venues/search) with specific [categoryId](https://developer.foursquare.com/docs/resources/categories) to get following info for each area ( borough that has its own postal code ): \n",
    "\n",
    "- Visible venue: number of intersection within 500m radius within each area. The bigger the better. ( More places with foot traffic, more options for you to choose a place that can attract your customer well ) \n",
    "- Highly accessible venue: number of public transportation within 500m radius. ( Same reason as above: more traffic, more customer, most likely ). The good place should also have a market / Supermarket / grocery store / gourmet ...  in <= 3km nearby. The more of those places exist within the area we're examining, the more likely we'll choose that location. \n",
    "- Parking lot venue: number of parking lot and Hotel/Office category nearby ( As we can deal with them to share their parking service ) , withint 500m radius. Again, bigger better. \n",
    "- Your customer base info in this area: info about places nearby that you can expect customer from ( Eg: Residence, Hotel, Office, MovieTheater, Supermarket, Shopping Mall, College & University...  ) \n",
    "- Competitors nearby: grab info about restaurent of the same type as yours ( for example, Asian food ) in each area. Based on the number / distribution of our competitor, we can decide about strategic steps then. \n",
    " \n",
    "\n",
    "Base on the data mentioned above, we can run a classification model to divide Toronto borough into different types based on their \"suitable level\" of being our restaurant location. \n",
    "Most likely that the location that can satisfy all our factors will have high cost or even ran out of available place for rent. Classify them well will give us more options to choose to fit our initial budget."
   ]
  },
  {
   "cell_type": "markdown",
   "metadata": {},
   "source": [
    "# 3. Methodology\n",
    "Main component of the report where we do the job for collecting and processing data explained above, fit them to a classification model and visualize the results so we can use it to get answer of our business problem\n",
    "\n",
    "## 3.1 Collect and process data"
   ]
  },
  {
   "cell_type": "markdown",
   "metadata": {},
   "source": [
    "#### Install and  Import needed lib "
   ]
  },
  {
   "cell_type": "code",
   "execution_count": 8,
   "metadata": {},
   "outputs": [],
   "source": [
    "#Install and import BeautifulSoup library to parse XML data above\n",
    "!pip3 --quiet install bs4\n",
    "\n",
    "#import needed lib\n",
    "from bs4 import BeautifulSoup\n",
    "import pandas as pd\n",
    "pd.set_option('display.max_columns',None)\n",
    "pd.set_option('display.max_rows',None)\n",
    "import requests\n",
    "import numpy as np\n",
    "from sklearn.cluster import KMeans \n",
    "\n",
    "import matplotlib.cm as cm\n",
    "import matplotlib.colors as colors\n",
    "\n",
    "from geopy.geocoders import Nominatim\n",
    "\n",
    "!pip3 --quiet install folium\n",
    "import folium\n",
    "\n",
    "import foursquare"
   ]
  },
  {
   "cell_type": "markdown",
   "metadata": {},
   "source": [
    "#### Download Toronto location data \n",
    "The data which was collected from wikipedia and processed by method explained [here](https://github.com/kembox/Coursera_Capstone/blob/master/toronto_neighborhoods.ipynb)"
   ]
  },
  {
   "cell_type": "code",
   "execution_count": 6,
   "metadata": {},
   "outputs": [],
   "source": [
    "!wget https://raw.githubusercontent.com/kembox/Coursera_Capstone/master/toronto_data.csv -O toronto_data.csv --quiet"
   ]
  },
  {
   "cell_type": "code",
   "execution_count": 7,
   "metadata": {},
   "outputs": [
    {
     "data": {
      "text/html": [
       "<div>\n",
       "<style scoped>\n",
       "    .dataframe tbody tr th:only-of-type {\n",
       "        vertical-align: middle;\n",
       "    }\n",
       "\n",
       "    .dataframe tbody tr th {\n",
       "        vertical-align: top;\n",
       "    }\n",
       "\n",
       "    .dataframe thead th {\n",
       "        text-align: right;\n",
       "    }\n",
       "</style>\n",
       "<table border=\"1\" class=\"dataframe\">\n",
       "  <thead>\n",
       "    <tr style=\"text-align: right;\">\n",
       "      <th></th>\n",
       "      <th>PostCode</th>\n",
       "      <th>Borough</th>\n",
       "      <th>Neighborhood</th>\n",
       "      <th>Latitude</th>\n",
       "      <th>Longitude</th>\n",
       "    </tr>\n",
       "  </thead>\n",
       "  <tbody>\n",
       "    <tr>\n",
       "      <th>0</th>\n",
       "      <td>M4E</td>\n",
       "      <td>East Toronto</td>\n",
       "      <td>The Beaches</td>\n",
       "      <td>43.676357</td>\n",
       "      <td>-79.293031</td>\n",
       "    </tr>\n",
       "    <tr>\n",
       "      <th>1</th>\n",
       "      <td>M4K</td>\n",
       "      <td>East Toronto</td>\n",
       "      <td>The Danforth West, Riverdale</td>\n",
       "      <td>43.679557</td>\n",
       "      <td>-79.352188</td>\n",
       "    </tr>\n",
       "    <tr>\n",
       "      <th>2</th>\n",
       "      <td>M4L</td>\n",
       "      <td>East Toronto</td>\n",
       "      <td>The Beaches West, India Bazaar</td>\n",
       "      <td>43.668999</td>\n",
       "      <td>-79.315572</td>\n",
       "    </tr>\n",
       "    <tr>\n",
       "      <th>3</th>\n",
       "      <td>M4M</td>\n",
       "      <td>East Toronto</td>\n",
       "      <td>Studio District</td>\n",
       "      <td>43.659526</td>\n",
       "      <td>-79.340923</td>\n",
       "    </tr>\n",
       "    <tr>\n",
       "      <th>4</th>\n",
       "      <td>M4N</td>\n",
       "      <td>Central Toronto</td>\n",
       "      <td>Lawrence Park</td>\n",
       "      <td>43.728020</td>\n",
       "      <td>-79.388790</td>\n",
       "    </tr>\n",
       "  </tbody>\n",
       "</table>\n",
       "</div>"
      ],
      "text/plain": [
       "  PostCode          Borough                    Neighborhood   Latitude  \\\n",
       "0      M4E     East Toronto                     The Beaches  43.676357   \n",
       "1      M4K     East Toronto    The Danforth West, Riverdale  43.679557   \n",
       "2      M4L     East Toronto  The Beaches West, India Bazaar  43.668999   \n",
       "3      M4M     East Toronto                 Studio District  43.659526   \n",
       "4      M4N  Central Toronto                   Lawrence Park  43.728020   \n",
       "\n",
       "   Longitude  \n",
       "0 -79.293031  \n",
       "1 -79.352188  \n",
       "2 -79.315572  \n",
       "3 -79.340923  \n",
       "4 -79.388790  "
      ]
     },
     "execution_count": 7,
     "metadata": {},
     "output_type": "execute_result"
    }
   ],
   "source": [
    "#Load data to a dataframe\n",
    "toronto_data=pd.read_csv('toronto_data.csv',index_col=None)\n",
    "toronto_data.head()"
   ]
  },
  {
   "cell_type": "code",
   "execution_count": null,
   "metadata": {},
   "outputs": [],
   "source": []
  }
 ],
 "metadata": {
  "kernelspec": {
   "display_name": "Python 3",
   "language": "python",
   "name": "python3"
  },
  "language_info": {
   "codemirror_mode": {
    "name": "ipython",
    "version": 3
   },
   "file_extension": ".py",
   "mimetype": "text/x-python",
   "name": "python",
   "nbconvert_exporter": "python",
   "pygments_lexer": "ipython3",
   "version": "3.7.2"
  }
 },
 "nbformat": 4,
 "nbformat_minor": 2
}

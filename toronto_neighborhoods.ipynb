{
 "cells": [
  {
   "cell_type": "markdown",
   "metadata": {},
   "source": [
    "# Segmenting and Clustering Neighborhoods in Toronto"
   ]
  },
  {
   "cell_type": "markdown",
   "metadata": {},
   "source": [
    "## Introduction\n",
    "\n",
    "In this lab, we'll explore neighborhoods in Toronto Canada by using foursquare API and segment those data about most common venues into different cluster by K-mean clustering. \n",
    "The result will be visuallized by Folium then. "
   ]
  },
  {
   "cell_type": "markdown",
   "metadata": {},
   "source": [
    "# 1. Download and Explore Dataset"
   ]
  },
  {
   "cell_type": "markdown",
   "metadata": {},
   "source": [
    "## 1.1 Process Postal data from wikipedia "
   ]
  },
  {
   "cell_type": "markdown",
   "metadata": {},
   "source": [
    "Scrape the following Wikipedia page, https://en.wikipedia.org/wiki/List_of_postal_codes_of_Canada:_M, in order to obtain the data that is in the table of postal codes and to transform the data into a pandas dataframe "
   ]
  },
  {
   "cell_type": "code",
   "execution_count": 1,
   "metadata": {},
   "outputs": [
    {
     "name": "stdout",
     "output_type": "stream",
     "text": [
      "--2019-05-20 09:55:21--  https://en.wikipedia.org/wiki/List_of_postal_codes_of_Canada:_M\n",
      "Resolving en.wikipedia.org (en.wikipedia.org)... 103.102.166.224\n",
      "Connecting to en.wikipedia.org (en.wikipedia.org)|103.102.166.224|:443... connected.\n",
      "HTTP request sent, awaiting response... 200 OK\n",
      "Length: 79026 (77K) [text/html]\n",
      "Saving to: ‘canada_postal_code.xml’\n",
      "\n",
      "canada_postal_code. 100%[===================>]  77.17K  --.-KB/s    in 0.1s    \n",
      "\n",
      "2019-05-20 09:55:22 (635 KB/s) - ‘canada_postal_code.xml’ saved [79026/79026]\n",
      "\n"
     ]
    }
   ],
   "source": [
    "#Download data\n",
    "!wget https://en.wikipedia.org/wiki/List_of_postal_codes_of_Canada:_M -O canada_postal_code.xml"
   ]
  },
  {
   "cell_type": "code",
   "execution_count": 2,
   "metadata": {},
   "outputs": [
    {
     "name": "stdout",
     "output_type": "stream",
     "text": [
      "Requirement already satisfied: bs4 in /usr/local/lib/python3.7/site-packages (0.0.1)\r\n",
      "Requirement already satisfied: beautifulsoup4 in /usr/local/lib/python3.7/site-packages (from bs4) (4.7.1)\r\n",
      "Requirement already satisfied: soupsieve>=1.2 in /usr/local/lib/python3.7/site-packages (from beautifulsoup4->bs4) (1.9.1)\r\n"
     ]
    }
   ],
   "source": [
    "#Install and import BeautifulSoup library to parse XML data above\n",
    "!pip install bs4"
   ]
  },
  {
   "cell_type": "code",
   "execution_count": 3,
   "metadata": {},
   "outputs": [
    {
     "name": "stdout",
     "output_type": "stream",
     "text": [
      "Requirement already satisfied: folium in /usr/local/lib/python3.7/site-packages (0.8.2)\n",
      "Requirement already satisfied: branca>=0.3.0 in /usr/local/lib/python3.7/site-packages (from folium) (0.3.1)\n",
      "Requirement already satisfied: requests in /Users/tungdam/Library/Python/3.7/lib/python/site-packages (from folium) (2.21.0)\n",
      "Requirement already satisfied: numpy in /usr/local/lib/python3.7/site-packages (from folium) (1.15.4)\n",
      "Requirement already satisfied: six in /usr/local/lib/python3.7/site-packages (from folium) (1.12.0)\n",
      "Requirement already satisfied: jinja2 in /usr/local/lib/python3.7/site-packages (from folium) (2.10)\n",
      "Requirement already satisfied: urllib3<1.25,>=1.21.1 in /Users/tungdam/Library/Python/3.7/lib/python/site-packages (from requests->folium) (1.24.1)\n",
      "Requirement already satisfied: chardet<3.1.0,>=3.0.2 in /usr/local/lib/python3.7/site-packages (from requests->folium) (3.0.4)\n",
      "Requirement already satisfied: idna<2.9,>=2.5 in /Users/tungdam/Library/Python/3.7/lib/python/site-packages (from requests->folium) (2.8)\n",
      "Requirement already satisfied: certifi>=2017.4.17 in /Users/tungdam/Library/Python/3.7/lib/python/site-packages (from requests->folium) (2018.11.29)\n",
      "Requirement already satisfied: MarkupSafe>=0.23 in /usr/local/lib/python3.7/site-packages (from jinja2->folium) (1.1.0)\n"
     ]
    }
   ],
   "source": [
    "#import needed lib\n",
    "from bs4 import BeautifulSoup\n",
    "import pandas as pd\n",
    "pd.set_option('display.max_columns',None)\n",
    "pd.set_option('display.max_rows',None)\n",
    "import requests\n",
    "import numpy as np\n",
    "from sklearn.cluster import KMeans \n",
    "\n",
    "import matplotlib.cm as cm\n",
    "import matplotlib.colors as colors\n",
    "\n",
    "from geopy.geocoders import Nominatim\n",
    "\n",
    "!pip install folium\n",
    "import folium"
   ]
  },
  {
   "cell_type": "code",
   "execution_count": 4,
   "metadata": {},
   "outputs": [],
   "source": [
    "#Load and process xml data \n",
    "with open('canada_postal_code.xml') as f:\n",
    "    soup=BeautifulSoup(f,'html.parser')"
   ]
  },
  {
   "cell_type": "code",
   "execution_count": 5,
   "metadata": {},
   "outputs": [
    {
     "name": "stdout",
     "output_type": "stream",
     "text": [
      "Let's see first 5 values\n"
     ]
    },
    {
     "data": {
      "text/plain": [
       "[['M1A', 'Not assigned', 'Not assigned'],\n",
       " ['M2A', 'Not assigned', 'Not assigned'],\n",
       " ['M3A', 'North York', 'Parkwoods'],\n",
       " ['M4A', 'North York', 'Victoria Village'],\n",
       " ['M5A', 'Downtown Toronto', 'Harbourfront']]"
      ]
     },
     "execution_count": 5,
     "metadata": {},
     "output_type": "execute_result"
    }
   ],
   "source": [
    "#Extract data from postal table\n",
    "L=[]\n",
    "for i in range(1,len(soup.table.find_all('tr'))):\n",
    "    L.append([ x.rstrip('\\n') for x in soup.table.find_all('tr')[i].strings if x.rstrip('\\n') != '' ])\n",
    "print(\"Let's see first 5 values\")\n",
    "L[:5]"
   ]
  },
  {
   "cell_type": "markdown",
   "metadata": {},
   "source": [
    "#### Create a dataframe from data above that consist of three columns: PostalCode, Borough, and Neighborhood"
   ]
  },
  {
   "cell_type": "code",
   "execution_count": 6,
   "metadata": {},
   "outputs": [
    {
     "data": {
      "text/html": [
       "<div>\n",
       "<style scoped>\n",
       "    .dataframe tbody tr th:only-of-type {\n",
       "        vertical-align: middle;\n",
       "    }\n",
       "\n",
       "    .dataframe tbody tr th {\n",
       "        vertical-align: top;\n",
       "    }\n",
       "\n",
       "    .dataframe thead th {\n",
       "        text-align: right;\n",
       "    }\n",
       "</style>\n",
       "<table border=\"1\" class=\"dataframe\">\n",
       "  <thead>\n",
       "    <tr style=\"text-align: right;\">\n",
       "      <th></th>\n",
       "      <th>PostCode</th>\n",
       "      <th>Borough</th>\n",
       "      <th>Neighborhood</th>\n",
       "    </tr>\n",
       "  </thead>\n",
       "  <tbody>\n",
       "    <tr>\n",
       "      <th>0</th>\n",
       "      <td>M1A</td>\n",
       "      <td>Not assigned</td>\n",
       "      <td>Not assigned</td>\n",
       "    </tr>\n",
       "    <tr>\n",
       "      <th>1</th>\n",
       "      <td>M2A</td>\n",
       "      <td>Not assigned</td>\n",
       "      <td>Not assigned</td>\n",
       "    </tr>\n",
       "    <tr>\n",
       "      <th>2</th>\n",
       "      <td>M3A</td>\n",
       "      <td>North York</td>\n",
       "      <td>Parkwoods</td>\n",
       "    </tr>\n",
       "    <tr>\n",
       "      <th>3</th>\n",
       "      <td>M4A</td>\n",
       "      <td>North York</td>\n",
       "      <td>Victoria Village</td>\n",
       "    </tr>\n",
       "    <tr>\n",
       "      <th>4</th>\n",
       "      <td>M5A</td>\n",
       "      <td>Downtown Toronto</td>\n",
       "      <td>Harbourfront</td>\n",
       "    </tr>\n",
       "  </tbody>\n",
       "</table>\n",
       "</div>"
      ],
      "text/plain": [
       "  PostCode           Borough      Neighborhood\n",
       "0      M1A      Not assigned      Not assigned\n",
       "1      M2A      Not assigned      Not assigned\n",
       "2      M3A        North York         Parkwoods\n",
       "3      M4A        North York  Victoria Village\n",
       "4      M5A  Downtown Toronto      Harbourfront"
      ]
     },
     "execution_count": 6,
     "metadata": {},
     "output_type": "execute_result"
    }
   ],
   "source": [
    "#Import our lists to a dataframe\n",
    "columns=['PostCode','Borough','Neighborhood']\n",
    "df=pd.DataFrame(L,columns=columns)\n",
    "df.head()"
   ]
  },
  {
   "cell_type": "markdown",
   "metadata": {},
   "source": [
    "#### Ignore cells with a borough that is Not assigned"
   ]
  },
  {
   "cell_type": "code",
   "execution_count": 7,
   "metadata": {},
   "outputs": [
    {
     "data": {
      "text/html": [
       "<div>\n",
       "<style scoped>\n",
       "    .dataframe tbody tr th:only-of-type {\n",
       "        vertical-align: middle;\n",
       "    }\n",
       "\n",
       "    .dataframe tbody tr th {\n",
       "        vertical-align: top;\n",
       "    }\n",
       "\n",
       "    .dataframe thead th {\n",
       "        text-align: right;\n",
       "    }\n",
       "</style>\n",
       "<table border=\"1\" class=\"dataframe\">\n",
       "  <thead>\n",
       "    <tr style=\"text-align: right;\">\n",
       "      <th></th>\n",
       "      <th>PostCode</th>\n",
       "      <th>Borough</th>\n",
       "      <th>Neighborhood</th>\n",
       "    </tr>\n",
       "  </thead>\n",
       "  <tbody>\n",
       "    <tr>\n",
       "      <th>2</th>\n",
       "      <td>M3A</td>\n",
       "      <td>North York</td>\n",
       "      <td>Parkwoods</td>\n",
       "    </tr>\n",
       "    <tr>\n",
       "      <th>3</th>\n",
       "      <td>M4A</td>\n",
       "      <td>North York</td>\n",
       "      <td>Victoria Village</td>\n",
       "    </tr>\n",
       "    <tr>\n",
       "      <th>4</th>\n",
       "      <td>M5A</td>\n",
       "      <td>Downtown Toronto</td>\n",
       "      <td>Harbourfront</td>\n",
       "    </tr>\n",
       "    <tr>\n",
       "      <th>5</th>\n",
       "      <td>M5A</td>\n",
       "      <td>Downtown Toronto</td>\n",
       "      <td>Regent Park</td>\n",
       "    </tr>\n",
       "    <tr>\n",
       "      <th>6</th>\n",
       "      <td>M6A</td>\n",
       "      <td>North York</td>\n",
       "      <td>Lawrence Heights</td>\n",
       "    </tr>\n",
       "  </tbody>\n",
       "</table>\n",
       "</div>"
      ],
      "text/plain": [
       "  PostCode           Borough      Neighborhood\n",
       "2      M3A        North York         Parkwoods\n",
       "3      M4A        North York  Victoria Village\n",
       "4      M5A  Downtown Toronto      Harbourfront\n",
       "5      M5A  Downtown Toronto       Regent Park\n",
       "6      M6A        North York  Lawrence Heights"
      ]
     },
     "execution_count": 7,
     "metadata": {},
     "output_type": "execute_result"
    }
   ],
   "source": [
    "#Drop rows with Borough == 'Not assigned'\n",
    "df=df[df['Borough'] != 'Not assigned']\n",
    "df.head()"
   ]
  },
  {
   "cell_type": "markdown",
   "metadata": {},
   "source": [
    "#### Group neighborhoods by PostCode"
   ]
  },
  {
   "cell_type": "code",
   "execution_count": 8,
   "metadata": {},
   "outputs": [
    {
     "data": {
      "text/html": [
       "<div>\n",
       "<style scoped>\n",
       "    .dataframe tbody tr th:only-of-type {\n",
       "        vertical-align: middle;\n",
       "    }\n",
       "\n",
       "    .dataframe tbody tr th {\n",
       "        vertical-align: top;\n",
       "    }\n",
       "\n",
       "    .dataframe thead th {\n",
       "        text-align: right;\n",
       "    }\n",
       "</style>\n",
       "<table border=\"1\" class=\"dataframe\">\n",
       "  <thead>\n",
       "    <tr style=\"text-align: right;\">\n",
       "      <th></th>\n",
       "      <th>PostCode</th>\n",
       "      <th>Borough</th>\n",
       "      <th>Neighborhood</th>\n",
       "    </tr>\n",
       "  </thead>\n",
       "  <tbody>\n",
       "    <tr>\n",
       "      <th>0</th>\n",
       "      <td>M1B</td>\n",
       "      <td>Scarborough</td>\n",
       "      <td>Rouge, Malvern</td>\n",
       "    </tr>\n",
       "    <tr>\n",
       "      <th>1</th>\n",
       "      <td>M1C</td>\n",
       "      <td>Scarborough</td>\n",
       "      <td>Highland Creek, Rouge Hill, Port Union</td>\n",
       "    </tr>\n",
       "    <tr>\n",
       "      <th>2</th>\n",
       "      <td>M1E</td>\n",
       "      <td>Scarborough</td>\n",
       "      <td>Guildwood, Morningside, West Hill</td>\n",
       "    </tr>\n",
       "    <tr>\n",
       "      <th>3</th>\n",
       "      <td>M1G</td>\n",
       "      <td>Scarborough</td>\n",
       "      <td>Woburn</td>\n",
       "    </tr>\n",
       "    <tr>\n",
       "      <th>4</th>\n",
       "      <td>M1H</td>\n",
       "      <td>Scarborough</td>\n",
       "      <td>Cedarbrae</td>\n",
       "    </tr>\n",
       "  </tbody>\n",
       "</table>\n",
       "</div>"
      ],
      "text/plain": [
       "  PostCode      Borough                            Neighborhood\n",
       "0      M1B  Scarborough                          Rouge, Malvern\n",
       "1      M1C  Scarborough  Highland Creek, Rouge Hill, Port Union\n",
       "2      M1E  Scarborough       Guildwood, Morningside, West Hill\n",
       "3      M1G  Scarborough                                  Woburn\n",
       "4      M1H  Scarborough                               Cedarbrae"
      ]
     },
     "execution_count": 8,
     "metadata": {},
     "output_type": "execute_result"
    }
   ],
   "source": [
    "df=df.groupby(['PostCode','Borough'],as_index=True)['Neighborhood'].apply(', '.join).reset_index()\n",
    "df.head()"
   ]
  },
  {
   "cell_type": "markdown",
   "metadata": {},
   "source": [
    "#### Replace \"Not assigned\" Neighborhood by Borough name"
   ]
  },
  {
   "cell_type": "code",
   "execution_count": 9,
   "metadata": {},
   "outputs": [
    {
     "name": "stdout",
     "output_type": "stream",
     "text": [
      "There is no Not assigned neighborhood anymore\n",
      "\n",
      "The value of Neighboorhood for Queen's park borough now is: Queen's Park\n"
     ]
    }
   ],
   "source": [
    "df.Neighborhood[df.Neighborhood == 'Not assigned'] = df.Borough\n",
    "\n",
    "#Verify result\n",
    "try:\n",
    "    df.set_index('Neighborhood').loc[\"Not assigned\"]\n",
    "except KeyError:\n",
    "    print(\"There is no Not assigned neighborhood anymore\\n\")\n",
    "    \n",
    "print(\"The value of Neighboorhood for Queen's park borough now is: %s\" % df.set_index('Borough').loc[\"Queen's Park\"].Neighborhood)"
   ]
  },
  {
   "cell_type": "markdown",
   "metadata": {},
   "source": [
    "#### Our dataframe shape"
   ]
  },
  {
   "cell_type": "code",
   "execution_count": 10,
   "metadata": {},
   "outputs": [
    {
     "data": {
      "text/plain": [
       "(103, 3)"
      ]
     },
     "execution_count": 10,
     "metadata": {},
     "output_type": "execute_result"
    }
   ],
   "source": [
    "df.shape"
   ]
  },
  {
   "cell_type": "markdown",
   "metadata": {},
   "source": [
    "## 1.2 Add long - lat values to our dataframe "
   ]
  },
  {
   "cell_type": "markdown",
   "metadata": {},
   "source": [
    "#### Download csv file that contains long - lat for each postal code from https://cocl.us/Geospatial_data"
   ]
  },
  {
   "cell_type": "code",
   "execution_count": 11,
   "metadata": {},
   "outputs": [
    {
     "name": "stdout",
     "output_type": "stream",
     "text": [
      "--2019-05-20 09:55:28--  https://cocl.us/Geospatial_data\n",
      "Resolving cocl.us (cocl.us)... 161.202.50.39\n",
      "Connecting to cocl.us (cocl.us)|161.202.50.39|:443... connected.\n",
      "HTTP request sent, awaiting response... 301 Moved Permanently\n",
      "Location: https://ibm.box.com/shared/static/9afzr83pps4pwf2smjjcf1y5mvgb18rr.csv [following]\n",
      "--2019-05-20 09:55:31--  https://ibm.box.com/shared/static/9afzr83pps4pwf2smjjcf1y5mvgb18rr.csv\n",
      "Resolving ibm.box.com (ibm.box.com)... 103.116.4.197\n",
      "Connecting to ibm.box.com (ibm.box.com)|103.116.4.197|:443... connected.\n",
      "HTTP request sent, awaiting response... 301 Moved Permanently\n",
      "Location: /public/static/9afzr83pps4pwf2smjjcf1y5mvgb18rr.csv [following]\n",
      "--2019-05-20 09:55:32--  https://ibm.box.com/public/static/9afzr83pps4pwf2smjjcf1y5mvgb18rr.csv\n",
      "Reusing existing connection to ibm.box.com:443.\n",
      "HTTP request sent, awaiting response... 301 Moved Permanently\n",
      "Location: https://ibm.ent.box.com/public/static/9afzr83pps4pwf2smjjcf1y5mvgb18rr.csv [following]\n",
      "--2019-05-20 09:55:32--  https://ibm.ent.box.com/public/static/9afzr83pps4pwf2smjjcf1y5mvgb18rr.csv\n",
      "Resolving ibm.ent.box.com (ibm.ent.box.com)... 107.152.24.211, 107.152.25.211\n",
      "Connecting to ibm.ent.box.com (ibm.ent.box.com)|107.152.24.211|:443... connected.\n",
      "HTTP request sent, awaiting response... 302 Found\n",
      "Location: https://public.boxcloud.com/d/1/b1!9nfOrxkoid34aTIBFb7lEkreKt42E1utLSUEtCSqALIlIMCZw7aRMyp8MDJWR_EsEL2NowiOTTMao8EDYXQEGE1IXm-MS0iPl73pxeq-7tQnoOTdnhx6APvakDaATOGg2_j946zgICiNhCiaJWYWhoBnYlvcXfFNVvaqQTqmpweZnScZmwwu-qPUsRgZZtAIIqdwAZmpDFbgbPujUjHJ0IXBxKIafHRQWFam5Ld6OwGa1QjKL80rGdPEAjOL44fZ54GbVJ8CimmXL_36Ikt5Dwhynsx6cardx-pakpmJegvrh3AVxjDckZWRqJBs3Qxq-XEtRBiBEYqV6wMwXonJtmDlWXjtQ-bV0hMoP7acPaBgK4rh7tsB6xMvbM5ndZ2d217euh19B9Dg51T9PbI6c7zYA0ssnwmiwxshqrSRkM6dFd87OxdW06j_QfHMIsCi8IFo1jVbuZrBM7Ewpbr_nUfloWOzkvmFc7igVz_HG5XVLN1DTT9zH6OZHfYNhvUqB4yd5w605QeatdOBAbPhNKj1_1ZmeBIvnHVWUrM9NBB2oWHH15n6KZWYrydhD0-AisG1BTyC00piy3RCRXPWRvi_KNkMm8QQRl6DZRW1eALdIXrv9oSNez-uxFmCsQzqplQ5VrbLDnsDVEwy3gfIJWEV4uC2ghC6F0zhFuSXhs64xw30fR2fFBXe6Dc-7wSObxtw0JgSM_oalvkaLYZDcamnJKF9laN4TbOfQYA4aB5IzfQdOe-7WjdT23qlDOFANYAF792J15BzJUzVpKbiLiyvrihjfYJ7MS9Qo0u4rWSdRmeok8NiSW6AQBjJ4pQnbUSWZ4nG-ZNWXJJSx7SokefrfJRSIrV78l5B0hRc918Nr9dhV2e23tTRUD7Igtp-LhREUcv5WPh6XsC6IriqZO-iorOqeFUzNS3b9Ec2Dw9sFqnPUt2vq182qZbsoKsxIZIWNv_0fTfrbURspHnrCuGDwn91uXIYjC-O_Vn-LIdf6s02acgC1R8T30recQKckZptv8HMvB8khSFEhQNtgNAzUPvPv_TXWwzDErR-RwjZOoGLd7K7yVXL6UHHJ58iGyb6T68-F1GPm-_plPlhOHPHrQZBsdSgjeDecbJ8xCrqOZJMHaDMzJrxtGjxW_pJBC3BGSFqwDCpzNQmMZ9NJAG3oPq8N0fYbomHz5vlvmct_fPvdwQ3GkLHJYYuW7JMInxFxbag-RVQBS2ImqP-gqe9qCe-NFEFdqINl-y2JPmhQHj62seRWH6HPKqf3ObMCJJ4tjgq5hjW3UdhS6UgnZxk3yJ29KBvptX_Gxb8DqwTNGnDnnQyIxBOUyD1NgOig-sO33fFThLVPEoG4pb_S9sT7RlElbt0fsLV9E1JRnCaPNYDQRV8JAFROg../download [following]\n",
      "--2019-05-20 09:55:34--  https://public.boxcloud.com/d/1/b1!9nfOrxkoid34aTIBFb7lEkreKt42E1utLSUEtCSqALIlIMCZw7aRMyp8MDJWR_EsEL2NowiOTTMao8EDYXQEGE1IXm-MS0iPl73pxeq-7tQnoOTdnhx6APvakDaATOGg2_j946zgICiNhCiaJWYWhoBnYlvcXfFNVvaqQTqmpweZnScZmwwu-qPUsRgZZtAIIqdwAZmpDFbgbPujUjHJ0IXBxKIafHRQWFam5Ld6OwGa1QjKL80rGdPEAjOL44fZ54GbVJ8CimmXL_36Ikt5Dwhynsx6cardx-pakpmJegvrh3AVxjDckZWRqJBs3Qxq-XEtRBiBEYqV6wMwXonJtmDlWXjtQ-bV0hMoP7acPaBgK4rh7tsB6xMvbM5ndZ2d217euh19B9Dg51T9PbI6c7zYA0ssnwmiwxshqrSRkM6dFd87OxdW06j_QfHMIsCi8IFo1jVbuZrBM7Ewpbr_nUfloWOzkvmFc7igVz_HG5XVLN1DTT9zH6OZHfYNhvUqB4yd5w605QeatdOBAbPhNKj1_1ZmeBIvnHVWUrM9NBB2oWHH15n6KZWYrydhD0-AisG1BTyC00piy3RCRXPWRvi_KNkMm8QQRl6DZRW1eALdIXrv9oSNez-uxFmCsQzqplQ5VrbLDnsDVEwy3gfIJWEV4uC2ghC6F0zhFuSXhs64xw30fR2fFBXe6Dc-7wSObxtw0JgSM_oalvkaLYZDcamnJKF9laN4TbOfQYA4aB5IzfQdOe-7WjdT23qlDOFANYAF792J15BzJUzVpKbiLiyvrihjfYJ7MS9Qo0u4rWSdRmeok8NiSW6AQBjJ4pQnbUSWZ4nG-ZNWXJJSx7SokefrfJRSIrV78l5B0hRc918Nr9dhV2e23tTRUD7Igtp-LhREUcv5WPh6XsC6IriqZO-iorOqeFUzNS3b9Ec2Dw9sFqnPUt2vq182qZbsoKsxIZIWNv_0fTfrbURspHnrCuGDwn91uXIYjC-O_Vn-LIdf6s02acgC1R8T30recQKckZptv8HMvB8khSFEhQNtgNAzUPvPv_TXWwzDErR-RwjZOoGLd7K7yVXL6UHHJ58iGyb6T68-F1GPm-_plPlhOHPHrQZBsdSgjeDecbJ8xCrqOZJMHaDMzJrxtGjxW_pJBC3BGSFqwDCpzNQmMZ9NJAG3oPq8N0fYbomHz5vlvmct_fPvdwQ3GkLHJYYuW7JMInxFxbag-RVQBS2ImqP-gqe9qCe-NFEFdqINl-y2JPmhQHj62seRWH6HPKqf3ObMCJJ4tjgq5hjW3UdhS6UgnZxk3yJ29KBvptX_Gxb8DqwTNGnDnnQyIxBOUyD1NgOig-sO33fFThLVPEoG4pb_S9sT7RlElbt0fsLV9E1JRnCaPNYDQRV8JAFROg../download\n",
      "Resolving public.boxcloud.com (public.boxcloud.com)... 107.152.24.200\n",
      "Connecting to public.boxcloud.com (public.boxcloud.com)|107.152.24.200|:443... connected.\n",
      "HTTP request sent, awaiting response... 200 OK\n",
      "Length: 2891 (2.8K) [text/csv]\n",
      "Saving to: ‘Geospatial_data’\n",
      "\n",
      "Geospatial_data     100%[===================>]   2.82K  --.-KB/s    in 0s      \n",
      "\n",
      "2019-05-20 09:55:35 (55.1 MB/s) - ‘Geospatial_data’ saved [2891/2891]\n",
      "\n"
     ]
    }
   ],
   "source": [
    "!wget https://cocl.us/Geospatial_data -O Geospatial_data"
   ]
  },
  {
   "cell_type": "markdown",
   "metadata": {},
   "source": [
    "#### Process and merge long lat data to our dataframe"
   ]
  },
  {
   "cell_type": "code",
   "execution_count": 12,
   "metadata": {},
   "outputs": [
    {
     "data": {
      "text/html": [
       "<div>\n",
       "<style scoped>\n",
       "    .dataframe tbody tr th:only-of-type {\n",
       "        vertical-align: middle;\n",
       "    }\n",
       "\n",
       "    .dataframe tbody tr th {\n",
       "        vertical-align: top;\n",
       "    }\n",
       "\n",
       "    .dataframe thead th {\n",
       "        text-align: right;\n",
       "    }\n",
       "</style>\n",
       "<table border=\"1\" class=\"dataframe\">\n",
       "  <thead>\n",
       "    <tr style=\"text-align: right;\">\n",
       "      <th></th>\n",
       "      <th>PostCode</th>\n",
       "      <th>Borough</th>\n",
       "      <th>Neighborhood</th>\n",
       "      <th>Latitude</th>\n",
       "      <th>Longitude</th>\n",
       "    </tr>\n",
       "  </thead>\n",
       "  <tbody>\n",
       "    <tr>\n",
       "      <th>0</th>\n",
       "      <td>M1B</td>\n",
       "      <td>Scarborough</td>\n",
       "      <td>Rouge, Malvern</td>\n",
       "      <td>43.806686</td>\n",
       "      <td>-79.194353</td>\n",
       "    </tr>\n",
       "    <tr>\n",
       "      <th>1</th>\n",
       "      <td>M1C</td>\n",
       "      <td>Scarborough</td>\n",
       "      <td>Highland Creek, Rouge Hill, Port Union</td>\n",
       "      <td>43.784535</td>\n",
       "      <td>-79.160497</td>\n",
       "    </tr>\n",
       "    <tr>\n",
       "      <th>2</th>\n",
       "      <td>M1E</td>\n",
       "      <td>Scarborough</td>\n",
       "      <td>Guildwood, Morningside, West Hill</td>\n",
       "      <td>43.763573</td>\n",
       "      <td>-79.188711</td>\n",
       "    </tr>\n",
       "    <tr>\n",
       "      <th>3</th>\n",
       "      <td>M1G</td>\n",
       "      <td>Scarborough</td>\n",
       "      <td>Woburn</td>\n",
       "      <td>43.770992</td>\n",
       "      <td>-79.216917</td>\n",
       "    </tr>\n",
       "    <tr>\n",
       "      <th>4</th>\n",
       "      <td>M1H</td>\n",
       "      <td>Scarborough</td>\n",
       "      <td>Cedarbrae</td>\n",
       "      <td>43.773136</td>\n",
       "      <td>-79.239476</td>\n",
       "    </tr>\n",
       "  </tbody>\n",
       "</table>\n",
       "</div>"
      ],
      "text/plain": [
       "  PostCode      Borough                            Neighborhood   Latitude  \\\n",
       "0      M1B  Scarborough                          Rouge, Malvern  43.806686   \n",
       "1      M1C  Scarborough  Highland Creek, Rouge Hill, Port Union  43.784535   \n",
       "2      M1E  Scarborough       Guildwood, Morningside, West Hill  43.763573   \n",
       "3      M1G  Scarborough                                  Woburn  43.770992   \n",
       "4      M1H  Scarborough                               Cedarbrae  43.773136   \n",
       "\n",
       "   Longitude  \n",
       "0 -79.194353  \n",
       "1 -79.160497  \n",
       "2 -79.188711  \n",
       "3 -79.216917  \n",
       "4 -79.239476  "
      ]
     },
     "execution_count": 12,
     "metadata": {},
     "output_type": "execute_result"
    }
   ],
   "source": [
    "#Load lat long\n",
    "lat_long=pd.read_csv('Geospatial_data')\n",
    "lat_long.head()\n",
    "#Update column name\n",
    "lat_long.rename(columns={'Postal Code':'PostCode'},inplace=True)\n",
    "\n",
    "#Merge to DataFrame\n",
    "full_df=pd.merge(df,lat_long,on='PostCode')\n",
    "full_df.head()"
   ]
  },
  {
   "cell_type": "markdown",
   "metadata": {},
   "source": [
    "#### Process data with toronto neighborhood only"
   ]
  },
  {
   "cell_type": "code",
   "execution_count": 20,
   "metadata": {},
   "outputs": [
    {
     "data": {
      "text/html": [
       "<div>\n",
       "<style scoped>\n",
       "    .dataframe tbody tr th:only-of-type {\n",
       "        vertical-align: middle;\n",
       "    }\n",
       "\n",
       "    .dataframe tbody tr th {\n",
       "        vertical-align: top;\n",
       "    }\n",
       "\n",
       "    .dataframe thead th {\n",
       "        text-align: right;\n",
       "    }\n",
       "</style>\n",
       "<table border=\"1\" class=\"dataframe\">\n",
       "  <thead>\n",
       "    <tr style=\"text-align: right;\">\n",
       "      <th></th>\n",
       "      <th>PostCode</th>\n",
       "      <th>Borough</th>\n",
       "      <th>Neighborhood</th>\n",
       "      <th>Latitude</th>\n",
       "      <th>Longitude</th>\n",
       "    </tr>\n",
       "  </thead>\n",
       "  <tbody>\n",
       "    <tr>\n",
       "      <th>0</th>\n",
       "      <td>M4E</td>\n",
       "      <td>East Toronto</td>\n",
       "      <td>The Beaches</td>\n",
       "      <td>43.676357</td>\n",
       "      <td>-79.293031</td>\n",
       "    </tr>\n",
       "    <tr>\n",
       "      <th>1</th>\n",
       "      <td>M4K</td>\n",
       "      <td>East Toronto</td>\n",
       "      <td>The Danforth West, Riverdale</td>\n",
       "      <td>43.679557</td>\n",
       "      <td>-79.352188</td>\n",
       "    </tr>\n",
       "    <tr>\n",
       "      <th>2</th>\n",
       "      <td>M4L</td>\n",
       "      <td>East Toronto</td>\n",
       "      <td>The Beaches West, India Bazaar</td>\n",
       "      <td>43.668999</td>\n",
       "      <td>-79.315572</td>\n",
       "    </tr>\n",
       "    <tr>\n",
       "      <th>3</th>\n",
       "      <td>M4M</td>\n",
       "      <td>East Toronto</td>\n",
       "      <td>Studio District</td>\n",
       "      <td>43.659526</td>\n",
       "      <td>-79.340923</td>\n",
       "    </tr>\n",
       "    <tr>\n",
       "      <th>4</th>\n",
       "      <td>M4N</td>\n",
       "      <td>Central Toronto</td>\n",
       "      <td>Lawrence Park</td>\n",
       "      <td>43.728020</td>\n",
       "      <td>-79.388790</td>\n",
       "    </tr>\n",
       "  </tbody>\n",
       "</table>\n",
       "</div>"
      ],
      "text/plain": [
       "  PostCode          Borough                    Neighborhood   Latitude  \\\n",
       "0      M4E     East Toronto                     The Beaches  43.676357   \n",
       "1      M4K     East Toronto    The Danforth West, Riverdale  43.679557   \n",
       "2      M4L     East Toronto  The Beaches West, India Bazaar  43.668999   \n",
       "3      M4M     East Toronto                 Studio District  43.659526   \n",
       "4      M4N  Central Toronto                   Lawrence Park  43.728020   \n",
       "\n",
       "   Longitude  \n",
       "0 -79.293031  \n",
       "1 -79.352188  \n",
       "2 -79.315572  \n",
       "3 -79.340923  \n",
       "4 -79.388790  "
      ]
     },
     "execution_count": 20,
     "metadata": {},
     "output_type": "execute_result"
    }
   ],
   "source": [
    "toronto_data=full_df[full_df['Borough'].str.find(\"Toronto\") > -1].reset_index(drop=True)\n",
    "toronto_data.head(5)"
   ]
  },
  {
   "cell_type": "markdown",
   "metadata": {},
   "source": [
    "#### Shape of dataframe with lat-long"
   ]
  },
  {
   "cell_type": "code",
   "execution_count": 19,
   "metadata": {},
   "outputs": [
    {
     "data": {
      "text/plain": [
       "(38, 5)"
      ]
     },
     "execution_count": 19,
     "metadata": {},
     "output_type": "execute_result"
    }
   ],
   "source": [
    "toronto_data.shape"
   ]
  },
  {
   "cell_type": "markdown",
   "metadata": {},
   "source": [
    "# 2. Explore Neighborhoods in Toronto"
   ]
  },
  {
   "cell_type": "markdown",
   "metadata": {},
   "source": [
    "#### Function to repeat the same process to all the neighborhoods in Toronto ( same things for manhattan in the labs)"
   ]
  },
  {
   "cell_type": "code",
   "execution_count": 14,
   "metadata": {},
   "outputs": [
    {
     "name": "stdout",
     "output_type": "stream",
     "text": [
      "Your credentails:\n",
      "CLIENT_ID: PUT_YOUR_CLIENT_ID_HERE\n",
      "CLIENT_SECRET:PUT_YOUR_CLIENT_SECRET_HERE\n"
     ]
    }
   ],
   "source": [
    "#Foursquare api info\n",
    "CLIENT_ID = 'PUT_YOUR_CLIENT_ID_HERE' # your Foursquare ID\n",
    "CLIENT_SECRET = 'PUT_YOUR_CLIENT_SECRET_HERE' # your Foursquare Secret\n",
    "VERSION = '20190506' # Foursquare API version\n",
    "\n",
    "print('Your credentails:')\n",
    "print('CLIENT_ID: ' + CLIENT_ID)\n",
    "print('CLIENT_SECRET:' + CLIENT_SECRET)"
   ]
  },
  {
   "cell_type": "code",
   "execution_count": 15,
   "metadata": {},
   "outputs": [],
   "source": [
    "LIMIT=100\n",
    "radius=500\n",
    "def getNearbyVenues(names, latitudes, longitudes, radius=500):\n",
    "\n",
    "    venues_list=[]\n",
    "    for name, lat, lng in zip(names, latitudes, longitudes):\n",
    "        # create the API request URL\n",
    "        url = 'https://api.foursquare.com/v2/venues/explore?&client_id={}&client_secret={}&v={}&ll={},{}&radius={}&limit={}'.format(\n",
    "            CLIENT_ID,\n",
    "            CLIENT_SECRET,\n",
    "            VERSION,\n",
    "            lat,\n",
    "            lng,\n",
    "            radius,\n",
    "            LIMIT)\n",
    "\n",
    "        # make the GET request\n",
    "        results = requests.get(url).json()[\"response\"]['groups'][0]['items']\n",
    "\n",
    "        # return only relevant information for each nearby venue\n",
    "        venues_list.append([(\n",
    "            name,\n",
    "            lat,\n",
    "            lng,\n",
    "            v['venue']['name'],\n",
    "            v['venue']['location']['lat'],\n",
    "            v['venue']['location']['lng'],\n",
    "            v['venue']['categories'][0]['name']) for v in results])\n",
    "    nearby_venues = pd.DataFrame([item for venue_list in venues_list for item in venue_list])\n",
    "    nearby_venues.columns = ['Neighborhood',\n",
    "                  'Neighborhood Latitude',\n",
    "                  'Neighborhood Longitude',\n",
    "                  'Venue',\n",
    "                  'Venue Latitude',\n",
    "                  'Venue Longitude',\n",
    "                  'Venue Category']\n",
    "\n",
    "    return(nearby_venues)"
   ]
  },
  {
   "cell_type": "markdown",
   "metadata": {},
   "source": [
    "#### Build venues dataframe for totonro"
   ]
  },
  {
   "cell_type": "markdown",
   "metadata": {},
   "source": [
    "#### Make sure you fill in your foursquare API credentials above or this will fail !!!!"
   ]
  },
  {
   "cell_type": "code",
   "execution_count": 16,
   "metadata": {},
   "outputs": [
    {
     "ename": "KeyError",
     "evalue": "'groups'",
     "output_type": "error",
     "traceback": [
      "\u001b[0;31m---------------------------------------------------------------------------\u001b[0m",
      "\u001b[0;31mKeyError\u001b[0m                                  Traceback (most recent call last)",
      "\u001b[0;32m<ipython-input-16-98262579546f>\u001b[0m in \u001b[0;36m<module>\u001b[0;34m\u001b[0m\n\u001b[1;32m      1\u001b[0m toronto_venues = getNearbyVenues(names=toronto_data['Neighborhood'],\n\u001b[1;32m      2\u001b[0m                                    \u001b[0mlatitudes\u001b[0m\u001b[0;34m=\u001b[0m\u001b[0mtoronto_data\u001b[0m\u001b[0;34m[\u001b[0m\u001b[0;34m'Latitude'\u001b[0m\u001b[0;34m]\u001b[0m\u001b[0;34m,\u001b[0m\u001b[0;34m\u001b[0m\u001b[0;34m\u001b[0m\u001b[0m\n\u001b[0;32m----> 3\u001b[0;31m                                    \u001b[0mlongitudes\u001b[0m\u001b[0;34m=\u001b[0m\u001b[0mtoronto_data\u001b[0m\u001b[0;34m[\u001b[0m\u001b[0;34m'Longitude'\u001b[0m\u001b[0;34m]\u001b[0m\u001b[0;34m\u001b[0m\u001b[0;34m\u001b[0m\u001b[0m\n\u001b[0m\u001b[1;32m      4\u001b[0m                                   )\n",
      "\u001b[0;32m<ipython-input-15-79e185ccc434>\u001b[0m in \u001b[0;36mgetNearbyVenues\u001b[0;34m(names, latitudes, longitudes, radius)\u001b[0m\n\u001b[1;32m     16\u001b[0m \u001b[0;34m\u001b[0m\u001b[0m\n\u001b[1;32m     17\u001b[0m         \u001b[0;31m# make the GET request\u001b[0m\u001b[0;34m\u001b[0m\u001b[0;34m\u001b[0m\u001b[0;34m\u001b[0m\u001b[0m\n\u001b[0;32m---> 18\u001b[0;31m         \u001b[0mresults\u001b[0m \u001b[0;34m=\u001b[0m \u001b[0mrequests\u001b[0m\u001b[0;34m.\u001b[0m\u001b[0mget\u001b[0m\u001b[0;34m(\u001b[0m\u001b[0murl\u001b[0m\u001b[0;34m)\u001b[0m\u001b[0;34m.\u001b[0m\u001b[0mjson\u001b[0m\u001b[0;34m(\u001b[0m\u001b[0;34m)\u001b[0m\u001b[0;34m[\u001b[0m\u001b[0;34m\"response\"\u001b[0m\u001b[0;34m]\u001b[0m\u001b[0;34m[\u001b[0m\u001b[0;34m'groups'\u001b[0m\u001b[0;34m]\u001b[0m\u001b[0;34m[\u001b[0m\u001b[0;36m0\u001b[0m\u001b[0;34m]\u001b[0m\u001b[0;34m[\u001b[0m\u001b[0;34m'items'\u001b[0m\u001b[0;34m]\u001b[0m\u001b[0;34m\u001b[0m\u001b[0;34m\u001b[0m\u001b[0m\n\u001b[0m\u001b[1;32m     19\u001b[0m \u001b[0;34m\u001b[0m\u001b[0m\n\u001b[1;32m     20\u001b[0m         \u001b[0;31m# return only relevant information for each nearby venue\u001b[0m\u001b[0;34m\u001b[0m\u001b[0;34m\u001b[0m\u001b[0;34m\u001b[0m\u001b[0m\n",
      "\u001b[0;31mKeyError\u001b[0m: 'groups'"
     ]
    }
   ],
   "source": [
    "toronto_venues = getNearbyVenues(names=toronto_data['Neighborhood'],\n",
    "                                   latitudes=toronto_data['Latitude'],\n",
    "                                   longitudes=toronto_data['Longitude']\n",
    "                                  )"
   ]
  },
  {
   "cell_type": "code",
   "execution_count": null,
   "metadata": {},
   "outputs": [],
   "source": [
    "#Review venues dataframe\n",
    "toronto_venues.head(10)"
   ]
  },
  {
   "cell_type": "code",
   "execution_count": null,
   "metadata": {},
   "outputs": [],
   "source": [
    "#shape\n",
    "toronto_venues.shape"
   ]
  },
  {
   "cell_type": "code",
   "execution_count": null,
   "metadata": {},
   "outputs": [],
   "source": []
  },
  {
   "cell_type": "markdown",
   "metadata": {},
   "source": [
    "# 3. Analyze Each Neighborhood"
   ]
  },
  {
   "cell_type": "code",
   "execution_count": null,
   "metadata": {},
   "outputs": [],
   "source": [
    "#One hot encoding\n",
    "toronto_onehot=pd.get_dummies(toronto_venues[['Venue Category']],prefix=\"\",prefix_sep=\"\")\n",
    "\n",
    "#Add neighborhood column back to dataframe\n",
    "toronto_onehot['Neighborhood'] = toronto_venues['Neighborhood']\n",
    "\n",
    "\n",
    "#Move neighborhood columns to the first columns\n",
    "\n",
    "#Get position of Neighborhood column\n",
    "c_index=toronto_onehot.columns.get_loc('Neighborhood')\n",
    "\n",
    "#Move to the first position\n",
    "fixed_columns = [toronto_onehot.columns[c_index]] + list(toronto_onehot.columns[:c_index]) \\\n",
    "+ list(toronto_onehot.columns[c_index+1:])\n",
    "toronto_onehot = toronto_onehot[fixed_columns]\n",
    "toronto_onehot.head()"
   ]
  },
  {
   "cell_type": "markdown",
   "metadata": {},
   "source": [
    "#### Group rows by neighborhood and by taking the mean of occurance frequency of each category "
   ]
  },
  {
   "cell_type": "code",
   "execution_count": null,
   "metadata": {},
   "outputs": [],
   "source": [
    "toronto_grouped = toronto_onehot.groupby('Neighborhood').mean().reset_index()\n",
    "toronto_grouped.head()"
   ]
  },
  {
   "cell_type": "markdown",
   "metadata": {},
   "source": [
    "### Build a dataframe with 10 most common venues for each neighborhood "
   ]
  },
  {
   "cell_type": "code",
   "execution_count": null,
   "metadata": {},
   "outputs": [],
   "source": [
    "\n",
    "def return_most_common_venues(row, num_top_venues):\n",
    "    row_categories = row.iloc[1:]\n",
    "    row_categories_sorted = row_categories.sort_values(ascending=False)\n",
    "    return row_categories_sorted.index.values[0:num_top_venues]\n",
    "\n",
    "num_top_venues=10\n",
    "indicators = ['st','nd','rd']\n",
    "#Create columns according to number of top ve\n",
    "columns = ['Neighborhood']\n",
    "for ind in np.arange(num_top_venues):\n",
    "    try:\n",
    "        columns.append('{}{} Most Common Venue'.format(ind+1,indicators[ind]))\n",
    "    except:\n",
    "        columns.append('{}th Most Common Venue'.format(ind+1))\n",
    "        \n",
    "#Create a new dataframe\n",
    "neighborhoods_venues_sorted = pd.DataFrame(columns=columns)\n",
    "neighborhoods_venues_sorted['Neighborhood'] = toronto_grouped['Neighborhood']\n",
    "\n",
    "for ind in np.arange(toronto_grouped.shape[0]):\n",
    "    neighborhoods_venues_sorted.iloc[ind,1:] = return_most_common_venues(toronto_grouped.iloc[ind,:], num_top_venues)\n",
    "neighborhoods_venues_sorted.head()"
   ]
  },
  {
   "cell_type": "markdown",
   "metadata": {},
   "source": [
    "# 4. Cluster Neighborhoods and visualize by folium"
   ]
  },
  {
   "cell_type": "markdown",
   "metadata": {},
   "source": [
    "## 4.1 Run kmeans to cluster neighborhood into 5 cluster"
   ]
  },
  {
   "cell_type": "code",
   "execution_count": null,
   "metadata": {},
   "outputs": [],
   "source": [
    "#set k=5\n",
    "kcluster=5\n",
    "toronto_grouped_clustering=toronto_grouped.drop('Neighborhood',1)\n",
    "\n",
    "#Run k-means clustering\n",
    "kmeans = KMeans(n_clusters=kcluster,random_state=0).fit(toronto_grouped_clustering)\n",
    "kmeans.labels_[0:10]\n"
   ]
  },
  {
   "cell_type": "code",
   "execution_count": null,
   "metadata": {},
   "outputs": [],
   "source": [
    "#Add clustering neighbor \n",
    "try:\n",
    "    neighborhoods_venues_sorted.insert(0,'Cluster Labels', kmeans.labels_)\n",
    "except ValueError:\n",
    "    print(\"Warn: cannot insert Cluster Labels, already exists. It looks like you're running this twice. Let's proceed\")\n",
    "    \n",
    "#merge toronto_data to add long/lat to each neighborhood    \n",
    "toronto_merged=toronto_data\n",
    "toronto_merged=toronto_merged.join(neighborhoods_venues_sorted.set_index('Neighborhood'),on='Neighborhood')\n",
    "toronto_merged.head()"
   ]
  },
  {
   "cell_type": "markdown",
   "metadata": {},
   "source": [
    "## 4.2 Visualize cluster"
   ]
  },
  {
   "cell_type": "code",
   "execution_count": null,
   "metadata": {},
   "outputs": [],
   "source": [
    "#create map \n",
    "address = 'Toronto, Canada'\n",
    "\n",
    "geolocator = Nominatim(user_agent=\"toronto_explorer\")\n",
    "location = geolocator.geocode(address)\n",
    "latitude = location.latitude\n",
    "longitude = location.longitude\n",
    "print('The geograpical coordinate of Toronto are {}, {}.'.format(latitude, longitude))\n",
    "map_clusters = folium.Map(location=[latitude,longitude],zoom_start=11)\n",
    "\n",
    "#set color scheme for the cluster\n",
    "x = np.arange(kcluster)\n",
    "\n",
    "ys= [ i + x + (i*x)**2 for i in range(kcluster)]\n",
    "\n",
    "\n",
    "colors_array=cm.rainbow(np.linspace(0,1,len(ys)))\n",
    "rainbow= [colors.rgb2hex(i) for i in colors_array]\n",
    "\n",
    "#add markers to the map \n",
    "markers_colors=[]\n",
    "for lat,lon,poi,cluster in zip(toronto_merged['Latitude'],toronto_merged['Longitude'],toronto_merged['Neighborhood'],toronto_merged['Cluster Labels']):\n",
    "    label = folium.Popup(str(poi) + ' Cluster ' +str(cluster),parse_html=True)\n",
    "    folium.CircleMarker(\n",
    "        [lat,lon],\n",
    "        radius=5,\n",
    "        popup=label,\n",
    "        color=rainbow[cluster-1],\n",
    "        fill=True,\n",
    "        fill_color=rainbow[cluster-1],\n",
    "        fill_opacity=0.7).add_to(map_clusters)\n",
    "\n",
    "map_clusters\n",
    "    "
   ]
  },
  {
   "cell_type": "markdown",
   "metadata": {},
   "source": [
    "## 5. Examine clusters "
   ]
  },
  {
   "cell_type": "markdown",
   "metadata": {},
   "source": [
    "The clustering method doesn't work very well somehow, as we still some outliers ( 2 nodes in the same cluster which is far from each other ). "
   ]
  }
 ],
 "metadata": {
  "kernelspec": {
   "display_name": "Python 3",
   "language": "python",
   "name": "python3"
  },
  "language_info": {
   "codemirror_mode": {
    "name": "ipython",
    "version": 3
   },
   "file_extension": ".py",
   "mimetype": "text/x-python",
   "name": "python",
   "nbconvert_exporter": "python",
   "pygments_lexer": "ipython3",
   "version": "3.7.2"
  }
 },
 "nbformat": 4,
 "nbformat_minor": 2
}

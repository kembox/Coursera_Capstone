{
 "cells": [
  {
   "cell_type": "markdown",
   "metadata": {},
   "source": [
    "# Segmenting and Clustering Neighborhoods in Toronto"
   ]
  },
  {
   "cell_type": "markdown",
   "metadata": {},
   "source": [
    "## Introduction\n",
    "\n",
    "In this lab, we'll explore neighborhoods in Toronto Canada by using foursquare API and segment those data about most common venues into different cluster by K-mean clustering. \n",
    "The result will be visuallized by Folium then. "
   ]
  },
  {
   "cell_type": "markdown",
   "metadata": {},
   "source": [
    "## 1. Download and Explore Dataset"
   ]
  },
  {
   "cell_type": "markdown",
   "metadata": {},
   "source": [
    "Scrape the following Wikipedia page, https://en.wikipedia.org/wiki/List_of_postal_codes_of_Canada:_M, in order to obtain the data that is in the table of postal codes and to transform the data into a pandas dataframe "
   ]
  },
  {
   "cell_type": "code",
   "execution_count": 1,
   "metadata": {},
   "outputs": [
    {
     "name": "stdout",
     "output_type": "stream",
     "text": [
      "--2019-05-20 06:27:37--  https://en.wikipedia.org/wiki/List_of_postal_codes_of_Canada:_M\n",
      "Resolving en.wikipedia.org (en.wikipedia.org)... 103.102.166.224\n",
      "Connecting to en.wikipedia.org (en.wikipedia.org)|103.102.166.224|:443... connected.\n",
      "HTTP request sent, awaiting response... 200 OK\n",
      "Length: 79026 (77K) [text/html]\n",
      "Saving to: ‘canada_postal_code.xml’\n",
      "\n",
      "canada_postal_code. 100%[===================>]  77.17K  --.-KB/s    in 0.1s    \n",
      "\n",
      "2019-05-20 06:27:38 (547 KB/s) - ‘canada_postal_code.xml’ saved [79026/79026]\n",
      "\n"
     ]
    }
   ],
   "source": [
    "#Download data\n",
    "!wget https://en.wikipedia.org/wiki/List_of_postal_codes_of_Canada:_M -O canada_postal_code.xml"
   ]
  },
  {
   "cell_type": "code",
   "execution_count": 2,
   "metadata": {},
   "outputs": [
    {
     "name": "stdout",
     "output_type": "stream",
     "text": [
      "Requirement already satisfied: bs4 in /usr/local/lib/python3.7/site-packages (0.0.1)\r\n",
      "Requirement already satisfied: beautifulsoup4 in /usr/local/lib/python3.7/site-packages (from bs4) (4.7.1)\r\n",
      "Requirement already satisfied: soupsieve>=1.2 in /usr/local/lib/python3.7/site-packages (from beautifulsoup4->bs4) (1.9.1)\r\n"
     ]
    }
   ],
   "source": [
    "#Install and import BeautifulSoup library to parse XML data above\n",
    "!pip install bs4"
   ]
  },
  {
   "cell_type": "code",
   "execution_count": 3,
   "metadata": {},
   "outputs": [],
   "source": [
    "#import needed lib\n",
    "from bs4 import BeautifulSoup\n",
    "import pandas as pd\n",
    "import requests"
   ]
  },
  {
   "cell_type": "code",
   "execution_count": 4,
   "metadata": {},
   "outputs": [],
   "source": [
    "#Load and process xml data \n",
    "with open('canada_postal_code.xml') as f:\n",
    "    soup=BeautifulSoup(f,'html.parser')"
   ]
  },
  {
   "cell_type": "code",
   "execution_count": 5,
   "metadata": {},
   "outputs": [
    {
     "name": "stdout",
     "output_type": "stream",
     "text": [
      "Let's see first 5 values\n"
     ]
    },
    {
     "data": {
      "text/plain": [
       "[['M1A', 'Not assigned', 'Not assigned'],\n",
       " ['M2A', 'Not assigned', 'Not assigned'],\n",
       " ['M3A', 'North York', 'Parkwoods'],\n",
       " ['M4A', 'North York', 'Victoria Village'],\n",
       " ['M5A', 'Downtown Toronto', 'Harbourfront']]"
      ]
     },
     "execution_count": 5,
     "metadata": {},
     "output_type": "execute_result"
    }
   ],
   "source": [
    "#Extract data from postal table\n",
    "L=[]\n",
    "for i in range(1,len(soup.table.find_all('tr'))):\n",
    "    L.append([ x.rstrip('\\n') for x in soup.table.find_all('tr')[i].strings if x.rstrip('\\n') != '' ])\n",
    "print(\"Let's see first 5 values\")\n",
    "L[:5]"
   ]
  },
  {
   "cell_type": "markdown",
   "metadata": {},
   "source": [
    "#### Create a dataframe from data above that consist of three columns: PostalCode, Borough, and Neighborhood"
   ]
  },
  {
   "cell_type": "code",
   "execution_count": 6,
   "metadata": {},
   "outputs": [
    {
     "data": {
      "text/html": [
       "<div>\n",
       "<style scoped>\n",
       "    .dataframe tbody tr th:only-of-type {\n",
       "        vertical-align: middle;\n",
       "    }\n",
       "\n",
       "    .dataframe tbody tr th {\n",
       "        vertical-align: top;\n",
       "    }\n",
       "\n",
       "    .dataframe thead th {\n",
       "        text-align: right;\n",
       "    }\n",
       "</style>\n",
       "<table border=\"1\" class=\"dataframe\">\n",
       "  <thead>\n",
       "    <tr style=\"text-align: right;\">\n",
       "      <th></th>\n",
       "      <th>PostCode</th>\n",
       "      <th>Borough</th>\n",
       "      <th>Neighborhood</th>\n",
       "    </tr>\n",
       "  </thead>\n",
       "  <tbody>\n",
       "    <tr>\n",
       "      <th>0</th>\n",
       "      <td>M1A</td>\n",
       "      <td>Not assigned</td>\n",
       "      <td>Not assigned</td>\n",
       "    </tr>\n",
       "    <tr>\n",
       "      <th>1</th>\n",
       "      <td>M2A</td>\n",
       "      <td>Not assigned</td>\n",
       "      <td>Not assigned</td>\n",
       "    </tr>\n",
       "    <tr>\n",
       "      <th>2</th>\n",
       "      <td>M3A</td>\n",
       "      <td>North York</td>\n",
       "      <td>Parkwoods</td>\n",
       "    </tr>\n",
       "    <tr>\n",
       "      <th>3</th>\n",
       "      <td>M4A</td>\n",
       "      <td>North York</td>\n",
       "      <td>Victoria Village</td>\n",
       "    </tr>\n",
       "    <tr>\n",
       "      <th>4</th>\n",
       "      <td>M5A</td>\n",
       "      <td>Downtown Toronto</td>\n",
       "      <td>Harbourfront</td>\n",
       "    </tr>\n",
       "  </tbody>\n",
       "</table>\n",
       "</div>"
      ],
      "text/plain": [
       "  PostCode           Borough      Neighborhood\n",
       "0      M1A      Not assigned      Not assigned\n",
       "1      M2A      Not assigned      Not assigned\n",
       "2      M3A        North York         Parkwoods\n",
       "3      M4A        North York  Victoria Village\n",
       "4      M5A  Downtown Toronto      Harbourfront"
      ]
     },
     "execution_count": 6,
     "metadata": {},
     "output_type": "execute_result"
    }
   ],
   "source": [
    "#Import our lists to a dataframe\n",
    "columns=['PostCode','Borough','Neighborhood']\n",
    "df=pd.DataFrame(L,columns=columns)\n",
    "df.head()"
   ]
  },
  {
   "cell_type": "markdown",
   "metadata": {},
   "source": [
    "#### Ignore cells with a borough that is Not assigned"
   ]
  },
  {
   "cell_type": "code",
   "execution_count": 7,
   "metadata": {},
   "outputs": [
    {
     "data": {
      "text/html": [
       "<div>\n",
       "<style scoped>\n",
       "    .dataframe tbody tr th:only-of-type {\n",
       "        vertical-align: middle;\n",
       "    }\n",
       "\n",
       "    .dataframe tbody tr th {\n",
       "        vertical-align: top;\n",
       "    }\n",
       "\n",
       "    .dataframe thead th {\n",
       "        text-align: right;\n",
       "    }\n",
       "</style>\n",
       "<table border=\"1\" class=\"dataframe\">\n",
       "  <thead>\n",
       "    <tr style=\"text-align: right;\">\n",
       "      <th></th>\n",
       "      <th>PostCode</th>\n",
       "      <th>Borough</th>\n",
       "      <th>Neighborhood</th>\n",
       "    </tr>\n",
       "  </thead>\n",
       "  <tbody>\n",
       "    <tr>\n",
       "      <th>2</th>\n",
       "      <td>M3A</td>\n",
       "      <td>North York</td>\n",
       "      <td>Parkwoods</td>\n",
       "    </tr>\n",
       "    <tr>\n",
       "      <th>3</th>\n",
       "      <td>M4A</td>\n",
       "      <td>North York</td>\n",
       "      <td>Victoria Village</td>\n",
       "    </tr>\n",
       "    <tr>\n",
       "      <th>4</th>\n",
       "      <td>M5A</td>\n",
       "      <td>Downtown Toronto</td>\n",
       "      <td>Harbourfront</td>\n",
       "    </tr>\n",
       "    <tr>\n",
       "      <th>5</th>\n",
       "      <td>M5A</td>\n",
       "      <td>Downtown Toronto</td>\n",
       "      <td>Regent Park</td>\n",
       "    </tr>\n",
       "    <tr>\n",
       "      <th>6</th>\n",
       "      <td>M6A</td>\n",
       "      <td>North York</td>\n",
       "      <td>Lawrence Heights</td>\n",
       "    </tr>\n",
       "  </tbody>\n",
       "</table>\n",
       "</div>"
      ],
      "text/plain": [
       "  PostCode           Borough      Neighborhood\n",
       "2      M3A        North York         Parkwoods\n",
       "3      M4A        North York  Victoria Village\n",
       "4      M5A  Downtown Toronto      Harbourfront\n",
       "5      M5A  Downtown Toronto       Regent Park\n",
       "6      M6A        North York  Lawrence Heights"
      ]
     },
     "execution_count": 7,
     "metadata": {},
     "output_type": "execute_result"
    }
   ],
   "source": [
    "#Drop rows with Borough == 'Not assigned'\n",
    "df=df[df['Borough'] != 'Not assigned']\n",
    "df.head()"
   ]
  },
  {
   "cell_type": "markdown",
   "metadata": {},
   "source": [
    "#### Group neighborhoods by PostCode"
   ]
  },
  {
   "cell_type": "code",
   "execution_count": 8,
   "metadata": {},
   "outputs": [
    {
     "data": {
      "text/html": [
       "<div>\n",
       "<style scoped>\n",
       "    .dataframe tbody tr th:only-of-type {\n",
       "        vertical-align: middle;\n",
       "    }\n",
       "\n",
       "    .dataframe tbody tr th {\n",
       "        vertical-align: top;\n",
       "    }\n",
       "\n",
       "    .dataframe thead th {\n",
       "        text-align: right;\n",
       "    }\n",
       "</style>\n",
       "<table border=\"1\" class=\"dataframe\">\n",
       "  <thead>\n",
       "    <tr style=\"text-align: right;\">\n",
       "      <th></th>\n",
       "      <th>PostCode</th>\n",
       "      <th>Borough</th>\n",
       "      <th>Neighborhood</th>\n",
       "    </tr>\n",
       "  </thead>\n",
       "  <tbody>\n",
       "    <tr>\n",
       "      <th>0</th>\n",
       "      <td>M1B</td>\n",
       "      <td>Scarborough</td>\n",
       "      <td>Rouge, Malvern</td>\n",
       "    </tr>\n",
       "    <tr>\n",
       "      <th>1</th>\n",
       "      <td>M1C</td>\n",
       "      <td>Scarborough</td>\n",
       "      <td>Highland Creek, Rouge Hill, Port Union</td>\n",
       "    </tr>\n",
       "    <tr>\n",
       "      <th>2</th>\n",
       "      <td>M1E</td>\n",
       "      <td>Scarborough</td>\n",
       "      <td>Guildwood, Morningside, West Hill</td>\n",
       "    </tr>\n",
       "    <tr>\n",
       "      <th>3</th>\n",
       "      <td>M1G</td>\n",
       "      <td>Scarborough</td>\n",
       "      <td>Woburn</td>\n",
       "    </tr>\n",
       "    <tr>\n",
       "      <th>4</th>\n",
       "      <td>M1H</td>\n",
       "      <td>Scarborough</td>\n",
       "      <td>Cedarbrae</td>\n",
       "    </tr>\n",
       "  </tbody>\n",
       "</table>\n",
       "</div>"
      ],
      "text/plain": [
       "  PostCode      Borough                            Neighborhood\n",
       "0      M1B  Scarborough                          Rouge, Malvern\n",
       "1      M1C  Scarborough  Highland Creek, Rouge Hill, Port Union\n",
       "2      M1E  Scarborough       Guildwood, Morningside, West Hill\n",
       "3      M1G  Scarborough                                  Woburn\n",
       "4      M1H  Scarborough                               Cedarbrae"
      ]
     },
     "execution_count": 8,
     "metadata": {},
     "output_type": "execute_result"
    }
   ],
   "source": [
    "df=df.groupby(['PostCode','Borough'],as_index=True)['Neighborhood'].apply(', '.join).reset_index()\n",
    "df.head()"
   ]
  },
  {
   "cell_type": "markdown",
   "metadata": {},
   "source": [
    "#### Replace \"Not assigned\" Neighborhood by Borough name"
   ]
  },
  {
   "cell_type": "code",
   "execution_count": 9,
   "metadata": {},
   "outputs": [
    {
     "name": "stdout",
     "output_type": "stream",
     "text": [
      "There is no Not assigned neighborhood anymore\n",
      "\n",
      "The value of Neighboorhood for Queen's park borough now is: Queen's Park\n"
     ]
    }
   ],
   "source": [
    "df.Neighborhood[df.Neighborhood == 'Not assigned'] = df.Borough\n",
    "\n",
    "#Verify result\n",
    "try:\n",
    "    df.set_index('Neighborhood').loc[\"Not assigned\"]\n",
    "except KeyError:\n",
    "    print(\"There is no Not assigned neighborhood anymore\\n\")\n",
    "    \n",
    "print(\"The value of Neighboorhood for Queen's park borough now is: %s\" % df.set_index('Borough').loc[\"Queen's Park\"].Neighborhood)"
   ]
  },
  {
   "cell_type": "markdown",
   "metadata": {},
   "source": [
    "#### Our dataframe shape"
   ]
  },
  {
   "cell_type": "code",
   "execution_count": 10,
   "metadata": {},
   "outputs": [
    {
     "data": {
      "text/plain": [
       "(103, 3)"
      ]
     },
     "execution_count": 10,
     "metadata": {},
     "output_type": "execute_result"
    }
   ],
   "source": [
    "df.shape"
   ]
  },
  {
   "cell_type": "markdown",
   "metadata": {},
   "source": [
    "### Add long - lat values to our dataframe "
   ]
  },
  {
   "cell_type": "markdown",
   "metadata": {},
   "source": [
    "#### Download csv file that contains long - lat for each postal code from https://cocl.us/Geospatial_data"
   ]
  },
  {
   "cell_type": "code",
   "execution_count": 11,
   "metadata": {},
   "outputs": [
    {
     "name": "stdout",
     "output_type": "stream",
     "text": [
      "--2019-05-20 06:27:42--  https://cocl.us/Geospatial_data\n",
      "Resolving cocl.us (cocl.us)... 161.202.50.39\n",
      "Connecting to cocl.us (cocl.us)|161.202.50.39|:443... connected.\n",
      "HTTP request sent, awaiting response... 301 Moved Permanently\n",
      "Location: https://ibm.box.com/shared/static/9afzr83pps4pwf2smjjcf1y5mvgb18rr.csv [following]\n",
      "--2019-05-20 06:27:46--  https://ibm.box.com/shared/static/9afzr83pps4pwf2smjjcf1y5mvgb18rr.csv\n",
      "Resolving ibm.box.com (ibm.box.com)... 103.116.4.197\n",
      "Connecting to ibm.box.com (ibm.box.com)|103.116.4.197|:443... connected.\n",
      "HTTP request sent, awaiting response... 301 Moved Permanently\n",
      "Location: /public/static/9afzr83pps4pwf2smjjcf1y5mvgb18rr.csv [following]\n",
      "--2019-05-20 06:27:46--  https://ibm.box.com/public/static/9afzr83pps4pwf2smjjcf1y5mvgb18rr.csv\n",
      "Reusing existing connection to ibm.box.com:443.\n",
      "HTTP request sent, awaiting response... 301 Moved Permanently\n",
      "Location: https://ibm.ent.box.com/public/static/9afzr83pps4pwf2smjjcf1y5mvgb18rr.csv [following]\n",
      "--2019-05-20 06:27:47--  https://ibm.ent.box.com/public/static/9afzr83pps4pwf2smjjcf1y5mvgb18rr.csv\n",
      "Resolving ibm.ent.box.com (ibm.ent.box.com)... 103.116.4.211\n",
      "Connecting to ibm.ent.box.com (ibm.ent.box.com)|103.116.4.211|:443... connected.\n",
      "HTTP request sent, awaiting response... 302 Found\n",
      "Location: https://public.boxcloud.com/d/1/b1!mRiR4Qwr0nMArU8sw3kcIKHqkglwKWOxi8YW--cofn5D1072Nvs-dhGyK2-RjE1F6AAjNumnQxxM1tSXhy5-AuBR6dG6Dj8w2Ingf9Ka6K3eavwqdbNEJb26A7FmidUEfA1nsp-2p-58U1xUA1xvxRZ8Ls1zdAzrlP2706Hch_t62jqJ19Z4US4bOciTlPVcxsUAC4uvzRccOhmcpbLB6m9WkxYkWaGo2llj1lEsqLGPcsph1t75N0tfzmFFvz0q_X2qsnDI-2BijZuEEqLvHw_2dUPb2i0bdN4ZGID7cW8kDFYtJrPjDuPPLjy1y0g5MqtBjvcNO-Ze-2lDE1ecXznIq0m9_ffxvg5IXkDDfvLE3dhYk99KBKfIX48oyY9FXgkO9rOmpTsVJSAuY3VIX6R9-gH_7gawQBypDRl1odRV-q7WmSe6DfW3I3NyCftAkzwde0JBXj6Eab2Ud-P74HZL2wkN6nxvzut_623aEEgN2M6yQ_4wTmxuNOy_1ueCtbCnnH8vYZqlZVkQcimTQdGpF_oslJ-3j-_xCrlBTsqFcQP8z3pkQrxp6vPj5ykcgaL0iWkFCPrY4Ys9yH37PehXqAL9yBDobObzRJit_s1yq1oR-u6fkFdE0NgHIFblxs3looXTm5thEGeR_GpoXbhrEnDw35Zf67b6Hvdtt63VCZ9CXfGpewJqC4dZKICVF_9FCqZ-4pSHmO3X-_qhKF93e5igS2GqEbjpxLMkXdQV7Oo524uFxRmrHhGTnyrT_5KQlgnIPubL4YjedUg3aY3xmj4WVeiSXRlwHy1UZigBgvTFbkiPHwTbRon9FGNG0jNxnXz6VGnMIOSL2JTteVmTOqWZhn9Uo43xJhLomNHwCe0FeZJq3xHI3DBtmu76q0HIuzqQjbVfX1mLdL-b9y2PWo6v9YTJRtg9x14aO7x_WwjF6fF0y41SE2E4ai43hfIDOcD5eqZxyoT2n5xByYrw7z4IBQ0eb6TOG8MxTo96l2Ahs7UzbikD703V6eZoUcxWH8Uhqa6NWOq3ALq1maoqQBB5MA4OKxTHUdJFcrN9borc6cXP_yX4NSr-o9b133eexlN2CsC_oRsOimmRHb4VjCMQk2b_E9U_tl9JpY9rRdfEjNfr4mNEYaDJ2j1di6bm1YtHj7lHDqwMpBPWW2-prHaPYbn6Cfm00u9bDbSWs_q0dhvfohsoFcl9yD90Jga7cEjJhMMlJSA6bJvWKtJajXGIXE_MflntLjVFju76jjE-poFWhd7BJ0PdsoTZr58zcwgcOwPzVj38eOUPYxGJSO5za4yam6vkKTV4lzMCbSlzNMfNLxea7Q43s_Sqv2tdDCp7NRG5_jLnHgCPOlFvyV5AUnW-L6C4-JVxzcBebWaDmeW9D5Yn9biG/download [following]\n",
      "--2019-05-20 06:27:48--  https://public.boxcloud.com/d/1/b1!mRiR4Qwr0nMArU8sw3kcIKHqkglwKWOxi8YW--cofn5D1072Nvs-dhGyK2-RjE1F6AAjNumnQxxM1tSXhy5-AuBR6dG6Dj8w2Ingf9Ka6K3eavwqdbNEJb26A7FmidUEfA1nsp-2p-58U1xUA1xvxRZ8Ls1zdAzrlP2706Hch_t62jqJ19Z4US4bOciTlPVcxsUAC4uvzRccOhmcpbLB6m9WkxYkWaGo2llj1lEsqLGPcsph1t75N0tfzmFFvz0q_X2qsnDI-2BijZuEEqLvHw_2dUPb2i0bdN4ZGID7cW8kDFYtJrPjDuPPLjy1y0g5MqtBjvcNO-Ze-2lDE1ecXznIq0m9_ffxvg5IXkDDfvLE3dhYk99KBKfIX48oyY9FXgkO9rOmpTsVJSAuY3VIX6R9-gH_7gawQBypDRl1odRV-q7WmSe6DfW3I3NyCftAkzwde0JBXj6Eab2Ud-P74HZL2wkN6nxvzut_623aEEgN2M6yQ_4wTmxuNOy_1ueCtbCnnH8vYZqlZVkQcimTQdGpF_oslJ-3j-_xCrlBTsqFcQP8z3pkQrxp6vPj5ykcgaL0iWkFCPrY4Ys9yH37PehXqAL9yBDobObzRJit_s1yq1oR-u6fkFdE0NgHIFblxs3looXTm5thEGeR_GpoXbhrEnDw35Zf67b6Hvdtt63VCZ9CXfGpewJqC4dZKICVF_9FCqZ-4pSHmO3X-_qhKF93e5igS2GqEbjpxLMkXdQV7Oo524uFxRmrHhGTnyrT_5KQlgnIPubL4YjedUg3aY3xmj4WVeiSXRlwHy1UZigBgvTFbkiPHwTbRon9FGNG0jNxnXz6VGnMIOSL2JTteVmTOqWZhn9Uo43xJhLomNHwCe0FeZJq3xHI3DBtmu76q0HIuzqQjbVfX1mLdL-b9y2PWo6v9YTJRtg9x14aO7x_WwjF6fF0y41SE2E4ai43hfIDOcD5eqZxyoT2n5xByYrw7z4IBQ0eb6TOG8MxTo96l2Ahs7UzbikD703V6eZoUcxWH8Uhqa6NWOq3ALq1maoqQBB5MA4OKxTHUdJFcrN9borc6cXP_yX4NSr-o9b133eexlN2CsC_oRsOimmRHb4VjCMQk2b_E9U_tl9JpY9rRdfEjNfr4mNEYaDJ2j1di6bm1YtHj7lHDqwMpBPWW2-prHaPYbn6Cfm00u9bDbSWs_q0dhvfohsoFcl9yD90Jga7cEjJhMMlJSA6bJvWKtJajXGIXE_MflntLjVFju76jjE-poFWhd7BJ0PdsoTZr58zcwgcOwPzVj38eOUPYxGJSO5za4yam6vkKTV4lzMCbSlzNMfNLxea7Q43s_Sqv2tdDCp7NRG5_jLnHgCPOlFvyV5AUnW-L6C4-JVxzcBebWaDmeW9D5Yn9biG/download\n",
      "Resolving public.boxcloud.com (public.boxcloud.com)... 107.152.25.200\n",
      "Connecting to public.boxcloud.com (public.boxcloud.com)|107.152.25.200|:443... connected.\n",
      "HTTP request sent, awaiting response... 200 OK\n",
      "Length: 2891 (2.8K) [text/csv]\n",
      "Saving to: ‘Geospatial_data’\n",
      "\n",
      "Geospatial_data     100%[===================>]   2.82K  --.-KB/s    in 0s      \n",
      "\n",
      "2019-05-20 06:27:49 (86.2 MB/s) - ‘Geospatial_data’ saved [2891/2891]\n",
      "\n"
     ]
    }
   ],
   "source": [
    "!wget https://cocl.us/Geospatial_data -O Geospatial_data"
   ]
  },
  {
   "cell_type": "markdown",
   "metadata": {},
   "source": [
    "#### Process and merge long lat data to our dataframe"
   ]
  },
  {
   "cell_type": "code",
   "execution_count": 12,
   "metadata": {},
   "outputs": [
    {
     "data": {
      "text/html": [
       "<div>\n",
       "<style scoped>\n",
       "    .dataframe tbody tr th:only-of-type {\n",
       "        vertical-align: middle;\n",
       "    }\n",
       "\n",
       "    .dataframe tbody tr th {\n",
       "        vertical-align: top;\n",
       "    }\n",
       "\n",
       "    .dataframe thead th {\n",
       "        text-align: right;\n",
       "    }\n",
       "</style>\n",
       "<table border=\"1\" class=\"dataframe\">\n",
       "  <thead>\n",
       "    <tr style=\"text-align: right;\">\n",
       "      <th></th>\n",
       "      <th>PostCode</th>\n",
       "      <th>Borough</th>\n",
       "      <th>Neighborhood</th>\n",
       "      <th>Latitude</th>\n",
       "      <th>Longitude</th>\n",
       "    </tr>\n",
       "  </thead>\n",
       "  <tbody>\n",
       "    <tr>\n",
       "      <th>0</th>\n",
       "      <td>M1B</td>\n",
       "      <td>Scarborough</td>\n",
       "      <td>Rouge, Malvern</td>\n",
       "      <td>43.806686</td>\n",
       "      <td>-79.194353</td>\n",
       "    </tr>\n",
       "    <tr>\n",
       "      <th>1</th>\n",
       "      <td>M1C</td>\n",
       "      <td>Scarborough</td>\n",
       "      <td>Highland Creek, Rouge Hill, Port Union</td>\n",
       "      <td>43.784535</td>\n",
       "      <td>-79.160497</td>\n",
       "    </tr>\n",
       "    <tr>\n",
       "      <th>2</th>\n",
       "      <td>M1E</td>\n",
       "      <td>Scarborough</td>\n",
       "      <td>Guildwood, Morningside, West Hill</td>\n",
       "      <td>43.763573</td>\n",
       "      <td>-79.188711</td>\n",
       "    </tr>\n",
       "    <tr>\n",
       "      <th>3</th>\n",
       "      <td>M1G</td>\n",
       "      <td>Scarborough</td>\n",
       "      <td>Woburn</td>\n",
       "      <td>43.770992</td>\n",
       "      <td>-79.216917</td>\n",
       "    </tr>\n",
       "    <tr>\n",
       "      <th>4</th>\n",
       "      <td>M1H</td>\n",
       "      <td>Scarborough</td>\n",
       "      <td>Cedarbrae</td>\n",
       "      <td>43.773136</td>\n",
       "      <td>-79.239476</td>\n",
       "    </tr>\n",
       "  </tbody>\n",
       "</table>\n",
       "</div>"
      ],
      "text/plain": [
       "  PostCode      Borough                            Neighborhood   Latitude  \\\n",
       "0      M1B  Scarborough                          Rouge, Malvern  43.806686   \n",
       "1      M1C  Scarborough  Highland Creek, Rouge Hill, Port Union  43.784535   \n",
       "2      M1E  Scarborough       Guildwood, Morningside, West Hill  43.763573   \n",
       "3      M1G  Scarborough                                  Woburn  43.770992   \n",
       "4      M1H  Scarborough                               Cedarbrae  43.773136   \n",
       "\n",
       "   Longitude  \n",
       "0 -79.194353  \n",
       "1 -79.160497  \n",
       "2 -79.188711  \n",
       "3 -79.216917  \n",
       "4 -79.239476  "
      ]
     },
     "execution_count": 12,
     "metadata": {},
     "output_type": "execute_result"
    }
   ],
   "source": [
    "#Load lat long\n",
    "lat_long=pd.read_csv('Geospatial_data')\n",
    "lat_long.head()\n",
    "#Update column name\n",
    "lat_long.rename(columns={'Postal Code':'PostCode'},inplace=True)\n",
    "\n",
    "#Merge to DataFrame\n",
    "full_df=pd.merge(df,lat_long,on='PostCode')\n",
    "full_df.head()"
   ]
  },
  {
   "cell_type": "markdown",
   "metadata": {},
   "source": [
    "#### Process data with toronto neighborhood only"
   ]
  },
  {
   "cell_type": "code",
   "execution_count": 13,
   "metadata": {},
   "outputs": [
    {
     "name": "stdout",
     "output_type": "stream",
     "text": [
      "  PostCode          Borough                    Neighborhood   Latitude  \\\n",
      "0      M4E     East Toronto                     The Beaches  43.676357   \n",
      "1      M4K     East Toronto    The Danforth West, Riverdale  43.679557   \n",
      "2      M4L     East Toronto  The Beaches West, India Bazaar  43.668999   \n",
      "3      M4M     East Toronto                 Studio District  43.659526   \n",
      "4      M4N  Central Toronto                   Lawrence Park  43.728020   \n",
      "\n",
      "   Longitude  \n",
      "0 -79.293031  \n",
      "1 -79.352188  \n",
      "2 -79.315572  \n",
      "3 -79.340923  \n",
      "4 -79.388790  \n"
     ]
    },
    {
     "data": {
      "text/plain": [
       "(38, 5)"
      ]
     },
     "execution_count": 13,
     "metadata": {},
     "output_type": "execute_result"
    }
   ],
   "source": [
    "toronto_data=full_df[full_df['Borough'].str.find(\"Toronto\") > -1].reset_index(drop=True)\n",
    "print(toronto_data.head(5))\n",
    "toronto_data.shape"
   ]
  },
  {
   "cell_type": "markdown",
   "metadata": {},
   "source": [
    "## 2. Explore Neighborhoods in Toronto"
   ]
  },
  {
   "cell_type": "markdown",
   "metadata": {},
   "source": [
    "## 3. Analyze Each Neighborhood"
   ]
  },
  {
   "cell_type": "markdown",
   "metadata": {},
   "source": [
    "## 4. Cluster Neighborhoods"
   ]
  },
  {
   "cell_type": "markdown",
   "metadata": {},
   "source": [
    "## 5. Examine clusters "
   ]
  },
  {
   "cell_type": "code",
   "execution_count": null,
   "metadata": {},
   "outputs": [],
   "source": []
  }
 ],
 "metadata": {
  "kernelspec": {
   "display_name": "Python 3",
   "language": "python",
   "name": "python3"
  },
  "language_info": {
   "codemirror_mode": {
    "name": "ipython",
    "version": 3
   },
   "file_extension": ".py",
   "mimetype": "text/x-python",
   "name": "python",
   "nbconvert_exporter": "python",
   "pygments_lexer": "ipython3",
   "version": "3.7.2"
  }
 },
 "nbformat": 4,
 "nbformat_minor": 2
}

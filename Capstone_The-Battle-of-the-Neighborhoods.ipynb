{
 "cells": [
  {
   "cell_type": "markdown",
   "metadata": {
    "collapsed": true
   },
   "source": [
    "# Capstone Project - The Battle of the Neighborhoods (Week 2)\n",
    "### Applied Data Science Capstone by IBM/Coursera"
   ]
  },
  {
   "cell_type": "markdown",
   "metadata": {},
   "source": [
    "## Table of contents\n",
    "* [Introduction: Business Problem](#introduction)\n",
    "* [Data](#data)\n",
    "* [Methodology](#methodology)\n",
    "* [Analysis](#analysis)\n",
    "* [Results and Discussion](#results)\n",
    "* [Conclusion](#conclusion)"
   ]
  },
  {
   "cell_type": "markdown",
   "metadata": {},
   "source": [
    "\n",
    "\n",
    "## Introduction: Business Problem <a name=\"introduction\"></a>"
   ]
  },
  {
   "cell_type": "markdown",
   "metadata": {},
   "source": [
    "In this project we will try to find an optimal location for a restaurant. Specifically, this report will be targeted to stakeholders interested in opening an **Italian restaurant** in **Berlin**, Germany.\n",
    "\n",
    "Since there are lots of restaurants in Berlin we will try to detect **locations that are not already crowded with restaurants**. We are also particularly interested in **areas with no Italian restaurants in vicinity**. We would also prefer locations **as close to city center as possible**, assuming that first two conditions are met.\n",
    "\n",
    "We will use our data science powers to generate a few most promissing neighborhoods based on this criteria. Advantages of each area will then be clearly expressed so that best possible final location can be chosen by stakeholders."
   ]
  },
  {
   "cell_type": "markdown",
   "metadata": {},
   "source": [
    "## Data <a name=\"data\"></a>"
   ]
  },
  {
   "cell_type": "markdown",
   "metadata": {},
   "source": [
    "Based on definition of our problem, factors that will influence our decission are:\n",
    "* number of existing restaurants in the neighborhood (any type of restaurant)\n",
    "* number of and distance to Italian restaurants in the neighborhood, if any\n",
    "* distance of neighborhood from city center\n",
    "\n",
    "We decided to use regularly spaced grid of locations, centered around city center, to define our neighborhoods.\n",
    "\n",
    "Following data sources will be needed to extract/generate the required information:\n",
    "* centers of candidate areas will be generated algorithmically and approximate addresses of centers of those areas will be obtained using **Google Maps API reverse geocoding**\n",
    "* number of restaurants and their type and location in every neighborhood will be obtained using **Foursquare API**\n",
    "* coordinate of Berlin center will be obtained using **Google Maps API geocoding** of well known Berlin location (Alexanderplatz)"
   ]
  },
  {
   "cell_type": "markdown",
   "metadata": {},
   "source": [
    "### Neighborhood Candidates\n",
    "\n",
    "Let's create latitude & longitude coordinates for centroids of our candidate neighborhoods. We will create a grid of cells covering our area of interest which is aprox. 12x12 killometers centered around Berlin city center.\n",
    "\n",
    "Let's first find the latitude & longitude of Berlin city center, using specific, well known address and Google Maps geocoding API."
   ]
  },
  {
   "cell_type": "code",
   "execution_count": 1,
   "metadata": {},
   "outputs": [],
   "source": [
    "# The code was removed by Watson Studio for sharing."
   ]
  },
  {
   "cell_type": "code",
   "execution_count": 2,
   "metadata": {},
   "outputs": [
    {
     "ename": "NameError",
     "evalue": "name 'google_api_key' is not defined",
     "output_type": "error",
     "traceback": [
      "\u001b[0;31m---------------------------------------------------------------------------\u001b[0m",
      "\u001b[0;31mNameError\u001b[0m                                 Traceback (most recent call last)",
      "\u001b[0;32m<ipython-input-2-607af06a2fd9>\u001b[0m in \u001b[0;36m<module>\u001b[0;34m\u001b[0m\n\u001b[1;32m     16\u001b[0m \u001b[0;34m\u001b[0m\u001b[0m\n\u001b[1;32m     17\u001b[0m \u001b[0maddress\u001b[0m \u001b[0;34m=\u001b[0m \u001b[0;34m'Alexanderplatz, Berlin, Germany'\u001b[0m\u001b[0;34m\u001b[0m\u001b[0;34m\u001b[0m\u001b[0m\n\u001b[0;32m---> 18\u001b[0;31m \u001b[0mberlin_center\u001b[0m \u001b[0;34m=\u001b[0m \u001b[0mget_coordinates\u001b[0m\u001b[0;34m(\u001b[0m\u001b[0mgoogle_api_key\u001b[0m\u001b[0;34m,\u001b[0m \u001b[0maddress\u001b[0m\u001b[0;34m)\u001b[0m\u001b[0;34m\u001b[0m\u001b[0;34m\u001b[0m\u001b[0m\n\u001b[0m\u001b[1;32m     19\u001b[0m \u001b[0mprint\u001b[0m\u001b[0;34m(\u001b[0m\u001b[0;34m'Coordinate of {}: {}'\u001b[0m\u001b[0;34m.\u001b[0m\u001b[0mformat\u001b[0m\u001b[0;34m(\u001b[0m\u001b[0maddress\u001b[0m\u001b[0;34m,\u001b[0m \u001b[0mberlin_center\u001b[0m\u001b[0;34m)\u001b[0m\u001b[0;34m)\u001b[0m\u001b[0;34m\u001b[0m\u001b[0;34m\u001b[0m\u001b[0m\n",
      "\u001b[0;31mNameError\u001b[0m: name 'google_api_key' is not defined"
     ]
    }
   ],
   "source": [
    "import requests\n",
    "\n",
    "def get_coordinates(api_key, address, verbose=False):\n",
    "    try:\n",
    "        url = 'https://maps.googleapis.com/maps/api/geocode/json?key={}&address={}'.format(api_key, address)\n",
    "        response = requests.get(url).json()\n",
    "        if verbose:\n",
    "            print('Google Maps API JSON result =>', response)\n",
    "        results = response['results']\n",
    "        geographical_data = results[0]['geometry']['location'] # get geographical coordinates\n",
    "        lat = geographical_data['lat']\n",
    "        lon = geographical_data['lng']\n",
    "        return [lat, lon]\n",
    "    except:\n",
    "        return [None, None]\n",
    "    \n",
    "address = 'Alexanderplatz, Berlin, Germany'\n",
    "berlin_center = get_coordinates(google_api_key, address)\n",
    "print('Coordinate of {}: {}'.format(address, berlin_center))"
   ]
  },
  {
   "cell_type": "markdown",
   "metadata": {},
   "source": [
    "Now let's create a grid of area candidates, equaly spaced, centered around city center and within ~6km from Alexanderplatz. Our neighborhoods will be defined as circular areas with a radius of 300 meters, so our neighborhood centers will be 600 meters apart.\n",
    "\n",
    "To accurately calculate distances we need to create our grid of locations in Cartesian 2D coordinate system which allows us to calculate distances in meters (not in latitude/longitude degrees). Then we'll project those coordinates back to latitude/longitude degrees to be shown on Folium map. So let's create functions to convert between WGS84 spherical coordinate system (latitude/longitude degrees) and UTM Cartesian coordinate system (X/Y coordinates in  meters)."
   ]
  },
  {
   "cell_type": "code",
   "execution_count": null,
   "metadata": {},
   "outputs": [],
   "source": [
    "#!pip install shapely\n",
    "import shapely.geometry\n",
    "\n",
    "#!pip install pyproj\n",
    "import pyproj\n",
    "\n",
    "import math\n",
    "\n",
    "def lonlat_to_xy(lon, lat):\n",
    "    proj_latlon = pyproj.Proj(proj='latlong',datum='WGS84')\n",
    "    proj_xy = pyproj.Proj(proj=\"utm\", zone=33, datum='WGS84')\n",
    "    xy = pyproj.transform(proj_latlon, proj_xy, lon, lat)\n",
    "    return xy[0], xy[1]\n",
    "\n",
    "def xy_to_lonlat(x, y):\n",
    "    proj_latlon = pyproj.Proj(proj='latlong',datum='WGS84')\n",
    "    proj_xy = pyproj.Proj(proj=\"utm\", zone=33, datum='WGS84')\n",
    "    lonlat = pyproj.transform(proj_xy, proj_latlon, x, y)\n",
    "    return lonlat[0], lonlat[1]\n",
    "\n",
    "def calc_xy_distance(x1, y1, x2, y2):\n",
    "    dx = x2 - x1\n",
    "    dy = y2 - y1\n",
    "    return math.sqrt(dx*dx + dy*dy)\n",
    "\n",
    "print('Coordinate transformation check')\n",
    "print('-------------------------------')\n",
    "print('Berlin center longitude={}, latitude={}'.format(berlin_center[1], berlin_center[0]))\n",
    "x, y = lonlat_to_xy(berlin_center[1], berlin_center[0])\n",
    "print('Berlin center UTM X={}, Y={}'.format(x, y))\n",
    "lo, la = xy_to_lonlat(x, y)\n",
    "print('Berlin center longitude={}, latitude={}'.format(lo, la))"
   ]
  },
  {
   "cell_type": "markdown",
   "metadata": {},
   "source": [
    "Let's create a **hexagonal grid of cells**: we offset every other row, and adjust vertical row spacing so that **every cell center is equally distant from all it's neighbors**."
   ]
  },
  {
   "cell_type": "code",
   "execution_count": null,
   "metadata": {},
   "outputs": [],
   "source": [
    "berlin_center_x, berlin_center_y = lonlat_to_xy(berlin_center[1], berlin_center[0]) # City center in Cartesian coordinates\n",
    "\n",
    "k = math.sqrt(3) / 2 # Vertical offset for hexagonal grid cells\n",
    "x_min = berlin_center_x - 6000\n",
    "x_step = 600\n",
    "y_min = berlin_center_y - 6000 - (int(21/k)*k*600 - 12000)/2\n",
    "y_step = 600 * k \n",
    "\n",
    "latitudes = []\n",
    "longitudes = []\n",
    "distances_from_center = []\n",
    "xs = []\n",
    "ys = []\n",
    "for i in range(0, int(21/k)):\n",
    "    y = y_min + i * y_step\n",
    "    x_offset = 300 if i%2==0 else 0\n",
    "    for j in range(0, 21):\n",
    "        x = x_min + j * x_step + x_offset\n",
    "        distance_from_center = calc_xy_distance(berlin_center_x, berlin_center_y, x, y)\n",
    "        if (distance_from_center <= 6001):\n",
    "            lon, lat = xy_to_lonlat(x, y)\n",
    "            latitudes.append(lat)\n",
    "            longitudes.append(lon)\n",
    "            distances_from_center.append(distance_from_center)\n",
    "            xs.append(x)\n",
    "            ys.append(y)\n",
    "\n",
    "print(len(latitudes), 'candidate neighborhood centers generated.')"
   ]
  },
  {
   "cell_type": "markdown",
   "metadata": {},
   "source": [
    "Let's visualize the data we have so far: city center location and candidate neighborhood centers:"
   ]
  },
  {
   "cell_type": "code",
   "execution_count": null,
   "metadata": {},
   "outputs": [],
   "source": [
    "#!pip install folium\n",
    "\n",
    "import folium"
   ]
  },
  {
   "cell_type": "code",
   "execution_count": null,
   "metadata": {},
   "outputs": [],
   "source": [
    "map_berlin = folium.Map(location=berlin_center, zoom_start=13)\n",
    "folium.Marker(berlin_center, popup='Alexanderplatz').add_to(map_berlin)\n",
    "for lat, lon in zip(latitudes, longitudes):\n",
    "    #folium.CircleMarker([lat, lon], radius=2, color='blue', fill=True, fill_color='blue', fill_opacity=1).add_to(map_berlin) \n",
    "    folium.Circle([lat, lon], radius=300, color='blue', fill=False).add_to(map_berlin)\n",
    "    #folium.Marker([lat, lon]).add_to(map_berlin)\n",
    "map_berlin"
   ]
  },
  {
   "cell_type": "markdown",
   "metadata": {},
   "source": [
    "OK, we now have the coordinates of centers of neighborhoods/areas to be evaluated, equally spaced (distance from every point to it's neighbors is exactly the same) and within ~6km from Alexanderplatz. \n",
    "\n",
    "Let's now use Google Maps API to get approximate addresses of those locations."
   ]
  },
  {
   "cell_type": "code",
   "execution_count": null,
   "metadata": {
    "scrolled": true
   },
   "outputs": [],
   "source": [
    "\n",
    "def get_address(api_key, latitude, longitude, verbose=False):\n",
    "    try:\n",
    "        url = 'https://maps.googleapis.com/maps/api/geocode/json?key={}&latlng={},{}'.format(api_key, latitude, longitude)\n",
    "        response = requests.get(url).json()\n",
    "        if verbose:\n",
    "            print('Google Maps API JSON result =>', response)\n",
    "        results = response['results']\n",
    "        address = results[0]['formatted_address']\n",
    "        return address\n",
    "    except:\n",
    "        return None\n",
    "\n",
    "addr = get_address(google_api_key, berlin_center[0], berlin_center[1])\n",
    "print('Reverse geocoding check')\n",
    "print('-----------------------')\n",
    "print('Address of [{}, {}] is: {}'.format(berlin_center[0], berlin_center[1], addr))"
   ]
  },
  {
   "cell_type": "code",
   "execution_count": null,
   "metadata": {},
   "outputs": [],
   "source": [
    "print('Obtaining location addresses: ', end='')\n",
    "addresses = []\n",
    "for lat, lon in zip(latitudes, longitudes):\n",
    "    address = get_address(google_api_key, lat, lon)\n",
    "    if address is None:\n",
    "        address = 'NO ADDRESS'\n",
    "    address = address.replace(', Germany', '') # We don't need country part of address\n",
    "    addresses.append(address)\n",
    "    print(' .', end='')\n",
    "print(' done.')"
   ]
  },
  {
   "cell_type": "code",
   "execution_count": null,
   "metadata": {},
   "outputs": [],
   "source": [
    "addresses[150:170]"
   ]
  },
  {
   "cell_type": "markdown",
   "metadata": {},
   "source": [
    "Looking good. Let's now place all this into a Pandas dataframe."
   ]
  },
  {
   "cell_type": "code",
   "execution_count": null,
   "metadata": {},
   "outputs": [],
   "source": [
    "import pandas as pd\n",
    "\n",
    "df_locations = pd.DataFrame({'Address': addresses,\n",
    "                             'Latitude': latitudes,\n",
    "                             'Longitude': longitudes,\n",
    "                             'X': xs,\n",
    "                             'Y': ys,\n",
    "                             'Distance from center': distances_from_center})\n",
    "\n",
    "df_locations.head(10)"
   ]
  },
  {
   "cell_type": "markdown",
   "metadata": {},
   "source": [
    "...and let's now save/persist this data into local file."
   ]
  },
  {
   "cell_type": "code",
   "execution_count": null,
   "metadata": {},
   "outputs": [],
   "source": [
    "df_locations.to_pickle('./locations.pkl')    "
   ]
  },
  {
   "cell_type": "markdown",
   "metadata": {},
   "source": [
    "### Foursquare\n",
    "Now that we have our location candidates, let's use Foursquare API to get info on restaurants in each neighborhood.\n",
    "\n",
    "We're interested in venues in 'food' category, but only those that are proper restaurants - coffe shops, pizza places, bakeries etc. are not direct competitors so we don't care about those. So we will include in out list only venues that have 'restaurant' in category name, and we'll make sure to detect and include all the subcategories of specific 'Italian restaurant' category, as we need info on Italian restaurants in the neighborhood."
   ]
  },
  {
   "cell_type": "markdown",
   "metadata": {},
   "source": [
    "Foursquare credentials are defined in hidden cell bellow."
   ]
  },
  {
   "cell_type": "code",
   "execution_count": null,
   "metadata": {},
   "outputs": [],
   "source": [
    "# The code was removed by Watson Studio for sharing."
   ]
  },
  {
   "cell_type": "code",
   "execution_count": null,
   "metadata": {},
   "outputs": [],
   "source": [
    "# Category IDs corresponding to Italian restaurants were taken from Foursquare web site (https://developer.foursquare.com/docs/resources/categories):\n",
    "\n",
    "food_category = '4d4b7105d754a06374d81259' # 'Root' category for all food-related venues\n",
    "\n",
    "italian_restaurant_categories = ['4bf58dd8d48988d110941735','55a5a1ebe4b013909087cbb6','55a5a1ebe4b013909087cb7c',\n",
    "                                 '55a5a1ebe4b013909087cba7','55a5a1ebe4b013909087cba1','55a5a1ebe4b013909087cba4',\n",
    "                                 '55a5a1ebe4b013909087cb95','55a5a1ebe4b013909087cb89','55a5a1ebe4b013909087cb9b',\n",
    "                                 '55a5a1ebe4b013909087cb98','55a5a1ebe4b013909087cbbf','55a5a1ebe4b013909087cb79',\n",
    "                                 '55a5a1ebe4b013909087cbb0','55a5a1ebe4b013909087cbb3','55a5a1ebe4b013909087cb74',\n",
    "                                 '55a5a1ebe4b013909087cbaa','55a5a1ebe4b013909087cb83','55a5a1ebe4b013909087cb8c',\n",
    "                                 '55a5a1ebe4b013909087cb92','55a5a1ebe4b013909087cb8f','55a5a1ebe4b013909087cb86',\n",
    "                                 '55a5a1ebe4b013909087cbb9','55a5a1ebe4b013909087cb7f','55a5a1ebe4b013909087cbbc',\n",
    "                                 '55a5a1ebe4b013909087cb9e','55a5a1ebe4b013909087cbc2','55a5a1ebe4b013909087cbad']\n",
    "\n",
    "def is_restaurant(categories, specific_filter=None):\n",
    "    restaurant_words = ['restaurant', 'diner', 'taverna', 'steakhouse']\n",
    "    restaurant = False\n",
    "    specific = False\n",
    "    for c in categories:\n",
    "        category_name = c[0].lower()\n",
    "        category_id = c[1]\n",
    "        for r in restaurant_words:\n",
    "            if r in category_name:\n",
    "                restaurant = True\n",
    "        if 'fast food' in category_name:\n",
    "            restaurant = False\n",
    "        if not(specific_filter is None) and (category_id in specific_filter):\n",
    "            specific = True\n",
    "            restaurant = True\n",
    "    return restaurant, specific\n",
    "\n",
    "def get_categories(categories):\n",
    "    return [(cat['name'], cat['id']) for cat in categories]\n",
    "\n",
    "def format_address(location):\n",
    "    address = ', '.join(location['formattedAddress'])\n",
    "    address = address.replace(', Deutschland', '')\n",
    "    address = address.replace(', Germany', '')\n",
    "    return address\n",
    "\n",
    "def get_venues_near_location(lat, lon, category, client_id, client_secret, radius=500, limit=100):\n",
    "    version = '20180724'\n",
    "    url = 'https://api.foursquare.com/v2/venues/explore?client_id={}&client_secret={}&v={}&ll={},{}&categoryId={}&radius={}&limit={}'.format(\n",
    "        client_id, client_secret, version, lat, lon, category, radius, limit)\n",
    "    try:\n",
    "        results = requests.get(url).json()['response']['groups'][0]['items']\n",
    "        venues = [(item['venue']['id'],\n",
    "                   item['venue']['name'],\n",
    "                   get_categories(item['venue']['categories']),\n",
    "                   (item['venue']['location']['lat'], item['venue']['location']['lng']),\n",
    "                   format_address(item['venue']['location']),\n",
    "                   item['venue']['location']['distance']) for item in results]        \n",
    "    except:\n",
    "        venues = []\n",
    "    return venues"
   ]
  },
  {
   "cell_type": "code",
   "execution_count": null,
   "metadata": {},
   "outputs": [],
   "source": [
    "# Let's now go over our neighborhood locations and get nearby restaurants; we'll also maintain a dictionary of all found restaurants and all found italian restaurants\n",
    "\n",
    "import pickle\n",
    "\n",
    "def get_restaurants(lats, lons):\n",
    "    restaurants = {}\n",
    "    italian_restaurants = {}\n",
    "    location_restaurants = []\n",
    "\n",
    "    print('Obtaining venues around candidate locations:', end='')\n",
    "    for lat, lon in zip(lats, lons):\n",
    "        # Using radius=350 to meke sure we have overlaps/full coverage so we don't miss any restaurant (we're using dictionaries to remove any duplicates resulting from area overlaps)\n",
    "        venues = get_venues_near_location(lat, lon, food_category, foursquare_client_id, foursquare_client_secret, radius=350, limit=100)\n",
    "        area_restaurants = []\n",
    "        for venue in venues:\n",
    "            venue_id = venue[0]\n",
    "            venue_name = venue[1]\n",
    "            venue_categories = venue[2]\n",
    "            venue_latlon = venue[3]\n",
    "            venue_address = venue[4]\n",
    "            venue_distance = venue[5]\n",
    "            is_res, is_italian = is_restaurant(venue_categories, specific_filter=italian_restaurant_categories)\n",
    "            if is_res:\n",
    "                x, y = lonlat_to_xy(venue_latlon[1], venue_latlon[0])\n",
    "                restaurant = (venue_id, venue_name, venue_latlon[0], venue_latlon[1], venue_address, venue_distance, is_italian, x, y)\n",
    "                if venue_distance<=300:\n",
    "                    area_restaurants.append(restaurant)\n",
    "                restaurants[venue_id] = restaurant\n",
    "                if is_italian:\n",
    "                    italian_restaurants[venue_id] = restaurant\n",
    "        location_restaurants.append(area_restaurants)\n",
    "        print(' .', end='')\n",
    "    print(' done.')\n",
    "    return restaurants, italian_restaurants, location_restaurants\n",
    "\n",
    "# Try to load from local file system in case we did this before\n",
    "restaurants = {}\n",
    "italian_restaurants = {}\n",
    "location_restaurants = []\n",
    "loaded = False\n",
    "try:\n",
    "    with open('restaurants_350.pkl', 'rb') as f:\n",
    "        restaurants = pickle.load(f)\n",
    "    with open('italian_restaurants_350.pkl', 'rb') as f:\n",
    "        italian_restaurants = pickle.load(f)\n",
    "    with open('location_restaurants_350.pkl', 'rb') as f:\n",
    "        location_restaurants = pickle.load(f)\n",
    "    print('Restaurant data loaded.')\n",
    "    loaded = True\n",
    "except:\n",
    "    pass\n",
    "\n",
    "# If load failed use the Foursquare API to get the data\n",
    "if not loaded:\n",
    "    restaurants, italian_restaurants, location_restaurants = get_restaurants(latitudes, longitudes)\n",
    "    \n",
    "    # Let's persists this in local file system\n",
    "    with open('restaurants_350.pkl', 'wb') as f:\n",
    "        pickle.dump(restaurants, f)\n",
    "    with open('italian_restaurants_350.pkl', 'wb') as f:\n",
    "        pickle.dump(italian_restaurants, f)\n",
    "    with open('location_restaurants_350.pkl', 'wb') as f:\n",
    "        pickle.dump(location_restaurants, f)\n",
    "        "
   ]
  },
  {
   "cell_type": "code",
   "execution_count": null,
   "metadata": {},
   "outputs": [],
   "source": [
    "import numpy as np\n",
    "\n",
    "print('Total number of restaurants:', len(restaurants))\n",
    "print('Total number of Italian restaurants:', len(italian_restaurants))\n",
    "print('Percentage of Italian restaurants: {:.2f}%'.format(len(italian_restaurants) / len(restaurants) * 100))\n",
    "print('Average number of restaurants in neighborhood:', np.array([len(r) for r in location_restaurants]).mean())"
   ]
  },
  {
   "cell_type": "code",
   "execution_count": null,
   "metadata": {},
   "outputs": [],
   "source": [
    "print('List of all restaurants')\n",
    "print('-----------------------')\n",
    "for r in list(restaurants.values())[:10]:\n",
    "    print(r)\n",
    "print('...')\n",
    "print('Total:', len(restaurants))"
   ]
  },
  {
   "cell_type": "code",
   "execution_count": null,
   "metadata": {},
   "outputs": [],
   "source": [
    "print('List of Italian restaurants')\n",
    "print('---------------------------')\n",
    "for r in list(italian_restaurants.values())[:10]:\n",
    "    print(r)\n",
    "print('...')\n",
    "print('Total:', len(italian_restaurants))"
   ]
  },
  {
   "cell_type": "code",
   "execution_count": null,
   "metadata": {},
   "outputs": [],
   "source": [
    "print('Restaurants around location')\n",
    "print('---------------------------')\n",
    "for i in range(100, 110):\n",
    "    rs = location_restaurants[i][:8]\n",
    "    names = ', '.join([r[1] for r in rs])\n",
    "    print('Restaurants around location {}: {}'.format(i+1, names))"
   ]
  },
  {
   "cell_type": "markdown",
   "metadata": {},
   "source": [
    "Let's now see all the collected restaurants in our area of interest on map, and let's also show Italian restaurants in different color."
   ]
  },
  {
   "cell_type": "code",
   "execution_count": null,
   "metadata": {},
   "outputs": [],
   "source": [
    "map_berlin = folium.Map(location=berlin_center, zoom_start=13)\n",
    "folium.Marker(berlin_center, popup='Alexanderplatz').add_to(map_berlin)\n",
    "for res in restaurants.values():\n",
    "    lat = res[2]; lon = res[3]\n",
    "    is_italian = res[6]\n",
    "    color = 'red' if is_italian else 'blue'\n",
    "    folium.CircleMarker([lat, lon], radius=3, color=color, fill=True, fill_color=color, fill_opacity=1).add_to(map_berlin)\n",
    "map_berlin"
   ]
  },
  {
   "cell_type": "markdown",
   "metadata": {},
   "source": [
    "Looking good. So now we have all the restaurants in area within few kilometers from Alexanderplatz, and we know which ones are Italian restaurants! We also know which restaurants exactly are in vicinity of every neighborhood candidate center.\n",
    "\n",
    "This concludes the data gathering phase - we're now ready to use this data for analysis to produce the report on optimal locations for a new Italian restaurant!"
   ]
  },
  {
   "cell_type": "markdown",
   "metadata": {},
   "source": [
    "## Methodology <a name=\"methodology\"></a>"
   ]
  },
  {
   "cell_type": "markdown",
   "metadata": {},
   "source": [
    "In this project we will direct our efforts on detecting areas of Berlin that have low restaurant density, particularly those with low number of Italian restaurants. We will limit our analysis to area ~6km around city center.\n",
    "\n",
    "In first step we have collected the required **data: location and type (category) of every restaurant within 6km from Berlin center** (Alexanderplatz). We have also **identified Italian restaurants** (according to Foursquare categorization).\n",
    "\n",
    "Second step in our analysis will be calculation and exploration of '**restaurant density**' across different areas of Berlin - we will use **heatmaps** to identify a few promising areas close to center with low number of restaurants in general (*and* no Italian restaurants in vicinity) and focus our attention on those areas.\n",
    "\n",
    "In third and final step we will focus on most promising areas and within those create **clusters of locations that meet some basic requirements** established in discussion with stakeholders: we will take into consideration locations with **no more than two restaurants in radius of 250 meters**, and we want locations **without Italian restaurants in radius of 400 meters**. We will present map of all such locations but also create clusters (using **k-means clustering**) of those locations to identify general zones / neighborhoods / addresses which should be a starting point for final 'street level' exploration and search for optimal venue location by stakeholders."
   ]
  },
  {
   "cell_type": "markdown",
   "metadata": {},
   "source": [
    "## Analysis <a name=\"analysis\"></a>"
   ]
  },
  {
   "cell_type": "markdown",
   "metadata": {},
   "source": [
    "Let's perform some basic explanatory data analysis and derive some additional info from our raw data. First let's count the **number of restaurants in every area candidate**:"
   ]
  },
  {
   "cell_type": "code",
   "execution_count": null,
   "metadata": {},
   "outputs": [],
   "source": [
    "location_restaurants_count = [len(res) for res in location_restaurants]\n",
    "\n",
    "df_locations['Restaurants in area'] = location_restaurants_count\n",
    "\n",
    "print('Average number of restaurants in every area with radius=300m:', np.array(location_restaurants_count).mean())\n",
    "\n",
    "df_locations.head(10)"
   ]
  },
  {
   "cell_type": "markdown",
   "metadata": {},
   "source": [
    "OK, now let's calculate the **distance to nearest Italian restaurant from every area candidate center** (not only those within 300m - we want distance to closest one, regardless of how distant it is)."
   ]
  },
  {
   "cell_type": "code",
   "execution_count": null,
   "metadata": {},
   "outputs": [],
   "source": [
    "distances_to_italian_restaurant = []\n",
    "\n",
    "for area_x, area_y in zip(xs, ys):\n",
    "    min_distance = 10000\n",
    "    for res in italian_restaurants.values():\n",
    "        res_x = res[7]\n",
    "        res_y = res[8]\n",
    "        d = calc_xy_distance(area_x, area_y, res_x, res_y)\n",
    "        if d<min_distance:\n",
    "            min_distance = d\n",
    "    distances_to_italian_restaurant.append(min_distance)\n",
    "\n",
    "df_locations['Distance to Italian restaurant'] = distances_to_italian_restaurant"
   ]
  },
  {
   "cell_type": "code",
   "execution_count": null,
   "metadata": {},
   "outputs": [],
   "source": [
    "df_locations.head(10)"
   ]
  },
  {
   "cell_type": "code",
   "execution_count": null,
   "metadata": {},
   "outputs": [],
   "source": [
    "print('Average distance to closest Italian restaurant from each area center:', df_locations['Distance to Italian restaurant'].mean())"
   ]
  },
  {
   "cell_type": "markdown",
   "metadata": {},
   "source": [
    "OK, so **on average Italian restaurant can be found within ~500m** from every area center candidate. That's fairly close, so we need to filter our areas carefully!"
   ]
  },
  {
   "cell_type": "markdown",
   "metadata": {},
   "source": [
    "Let's crete a map showing **heatmap / density of restaurants** and try to extract some meaningfull info from that. Also, let's show **borders of Berlin boroughs** on our map and a few circles indicating distance of 1km, 2km and 3km from Alexanderplatz."
   ]
  },
  {
   "cell_type": "code",
   "execution_count": null,
   "metadata": {},
   "outputs": [],
   "source": [
    "berlin_boroughs_url = 'https://raw.githubusercontent.com/m-hoerz/berlin-shapes/master/berliner-bezirke.geojson'\n",
    "berlin_boroughs = requests.get(berlin_boroughs_url).json()\n",
    "\n",
    "def boroughs_style(feature):\n",
    "    return { 'color': 'blue', 'fill': False }"
   ]
  },
  {
   "cell_type": "code",
   "execution_count": null,
   "metadata": {},
   "outputs": [],
   "source": [
    "restaurant_latlons = [[res[2], res[3]] for res in restaurants.values()]\n",
    "\n",
    "italian_latlons = [[res[2], res[3]] for res in italian_restaurants.values()]"
   ]
  },
  {
   "cell_type": "code",
   "execution_count": null,
   "metadata": {},
   "outputs": [],
   "source": [
    "from folium import plugins\n",
    "from folium.plugins import HeatMap\n",
    "\n",
    "map_berlin = folium.Map(location=berlin_center, zoom_start=13)\n",
    "folium.TileLayer('cartodbpositron').add_to(map_berlin) #cartodbpositron cartodbdark_matter\n",
    "HeatMap(restaurant_latlons).add_to(map_berlin)\n",
    "folium.Marker(berlin_center).add_to(map_berlin)\n",
    "folium.Circle(berlin_center, radius=1000, fill=False, color='white').add_to(map_berlin)\n",
    "folium.Circle(berlin_center, radius=2000, fill=False, color='white').add_to(map_berlin)\n",
    "folium.Circle(berlin_center, radius=3000, fill=False, color='white').add_to(map_berlin)\n",
    "folium.GeoJson(berlin_boroughs, style_function=boroughs_style, name='geojson').add_to(map_berlin)\n",
    "map_berlin"
   ]
  },
  {
   "cell_type": "markdown",
   "metadata": {},
   "source": [
    "Looks like a few pockets of low restaurant density closest to city center can be found **south, south-east and east from Alexanderplatz**. \n",
    "\n",
    "Let's create another heatmap map showing **heatmap/density of Italian restaurants** only."
   ]
  },
  {
   "cell_type": "code",
   "execution_count": null,
   "metadata": {},
   "outputs": [],
   "source": [
    "map_berlin = folium.Map(location=berlin_center, zoom_start=13)\n",
    "folium.TileLayer('cartodbpositron').add_to(map_berlin) #cartodbpositron cartodbdark_matter\n",
    "HeatMap(italian_latlons).add_to(map_berlin)\n",
    "folium.Marker(berlin_center).add_to(map_berlin)\n",
    "folium.Circle(berlin_center, radius=1000, fill=False, color='white').add_to(map_berlin)\n",
    "folium.Circle(berlin_center, radius=2000, fill=False, color='white').add_to(map_berlin)\n",
    "folium.Circle(berlin_center, radius=3000, fill=False, color='white').add_to(map_berlin)\n",
    "folium.GeoJson(berlin_boroughs, style_function=boroughs_style, name='geojson').add_to(map_berlin)\n",
    "map_berlin"
   ]
  },
  {
   "cell_type": "markdown",
   "metadata": {},
   "source": [
    "This map is not so 'hot' (Italian restaurants represent a subset of ~15% of all restaurants in Berlin) but it also indicates higher density of existing Italian restaurants directly north and west from Alexanderplatz, with closest pockets of **low Italian restaurant density positioned east, south-east and south from city center**.\n",
    "\n",
    "Based on this we will now focus our analysis on areas *south-west, south, south-east and east from Berlin center* - we will move the center of our area of interest and reduce it's size to have a radius of **2.5km**. This places our location candidates mostly in boroughs **Kreuzberg and Friedrichshain** (another potentially interesting borough is **Prenzlauer Berg** with large low restaurant density north-east from city center, however this borough is less interesting to stakeholders as it's mostly residental and less popular with tourists)."
   ]
  },
  {
   "cell_type": "markdown",
   "metadata": {},
   "source": [
    "### Kreuzberg and Friedrichshain\n",
    "\n",
    "Analysis of popular travel guides and web sites often mention Kreuzberg and Friedrichshain as beautifull, interesting, rich with culture, 'hip' and 'cool' Berlin neighborhoods popular with tourists and loved by Berliners.\n",
    "\n",
    "*\"Bold and brazen, Kreuzberg's creative people, places, and spaces might challenge your paradigm.\"* Tags: Nightlife, Artsy, Dining, Trendy, Loved by Berliners, Great Transit (airbnb.com)\n",
    "\n",
    "*\"Kreuzberg has long been revered for its diverse cultural life and as a part of Berlin where alternative lifestyles have flourished. Envisioning the glamorous yet gritty nature of Berlin often conjures up scenes from this neighbourhood, where cultures, movements and artistic flare adorn the walls of building and fills the air. Brimming with nightclubs, street food, and art galleries, Kreuzberg is the place to be for Berlin’s young and trendy.\"* (theculturetrip.com)\n",
    "\n",
    "*\"Imagine an art gallery turned inside out and you’ll begin to envision Friedrichshain. Single walls aren’t canvases for creative works, entire buildings are canvases. This zealously expressive east Berlin neighborhood forgoes social norms\"* Tags: Artsy, Nightlife, Trendy, Dining, Touristy, Shopping, Great Transit, Loved by Berliners (airbnb.com)\n",
    "\n",
    "*\"As anyone from Kreuzberg will tell you, this district is not just the coolest in Berlin, but the hippest location in the entire universe. Kreuzberg has long been famed for its diverse cultural life, its experimental alternative lifestyles and the powerful spell it exercises on young people from across Germany. In 2001, Kreuzberg and Friedrichshain were merged to form one administrative borough. When it comes to club culture, Friedrichshain is now out in front – with southern Friedrichshain particularly ranked as home to the highest density of clubs in the city.\"* (visitberlin.de)\n",
    "\n",
    "Popular with tourists, alternative and bohemian but booming and trendy, relatively close to city center and well connected, those boroughs appear to justify further analysis.\n",
    "\n",
    "Let's define new, more narrow region of interest, which will include low-restaurant-count parts of Kreuzberg and Friedrichshain closest to Alexanderplatz."
   ]
  },
  {
   "cell_type": "code",
   "execution_count": null,
   "metadata": {},
   "outputs": [],
   "source": [
    "roi_x_min = berlin_center_x - 2000\n",
    "roi_y_max = berlin_center_y + 1000\n",
    "roi_width = 5000\n",
    "roi_height = 5000\n",
    "roi_center_x = roi_x_min + 2500\n",
    "roi_center_y = roi_y_max - 2500\n",
    "roi_center_lon, roi_center_lat = xy_to_lonlat(roi_center_x, roi_center_y)\n",
    "roi_center = [roi_center_lat, roi_center_lon]\n",
    "\n",
    "map_berlin = folium.Map(location=roi_center, zoom_start=14)\n",
    "HeatMap(restaurant_latlons).add_to(map_berlin)\n",
    "folium.Marker(berlin_center).add_to(map_berlin)\n",
    "folium.Circle(roi_center, radius=2500, color='white', fill=True, fill_opacity=0.4).add_to(map_berlin)\n",
    "folium.GeoJson(berlin_boroughs, style_function=boroughs_style, name='geojson').add_to(map_berlin)\n",
    "map_berlin"
   ]
  },
  {
   "cell_type": "markdown",
   "metadata": {},
   "source": [
    "Not bad - this nicely covers all the pockets of low restaurant density in Kreuzberg and Friedrichshain closest to Berlin center.\n",
    "\n",
    "Let's also create new, more dense grid of location candidates restricted to our new region of interest (let's make our location candidates 100m appart)."
   ]
  },
  {
   "cell_type": "code",
   "execution_count": null,
   "metadata": {},
   "outputs": [],
   "source": [
    "k = math.sqrt(3) / 2 # Vertical offset for hexagonal grid cells\n",
    "x_step = 100\n",
    "y_step = 100 * k \n",
    "roi_y_min = roi_center_y - 2500\n",
    "\n",
    "roi_latitudes = []\n",
    "roi_longitudes = []\n",
    "roi_xs = []\n",
    "roi_ys = []\n",
    "for i in range(0, int(51/k)):\n",
    "    y = roi_y_min + i * y_step\n",
    "    x_offset = 50 if i%2==0 else 0\n",
    "    for j in range(0, 51):\n",
    "        x = roi_x_min + j * x_step + x_offset\n",
    "        d = calc_xy_distance(roi_center_x, roi_center_y, x, y)\n",
    "        if (d <= 2501):\n",
    "            lon, lat = xy_to_lonlat(x, y)\n",
    "            roi_latitudes.append(lat)\n",
    "            roi_longitudes.append(lon)\n",
    "            roi_xs.append(x)\n",
    "            roi_ys.append(y)\n",
    "\n",
    "print(len(roi_latitudes), 'candidate neighborhood centers generated.')"
   ]
  },
  {
   "cell_type": "markdown",
   "metadata": {},
   "source": [
    "OK. Now let's calculate two most important things for each location candidate: **number of restaurants in vicinity** (we'll use radius of **250 meters**) and **distance to closest Italian restaurant**."
   ]
  },
  {
   "cell_type": "code",
   "execution_count": null,
   "metadata": {},
   "outputs": [],
   "source": [
    "def count_restaurants_nearby(x, y, restaurants, radius=250):    \n",
    "    count = 0\n",
    "    for res in restaurants.values():\n",
    "        res_x = res[7]; res_y = res[8]\n",
    "        d = calc_xy_distance(x, y, res_x, res_y)\n",
    "        if d<=radius:\n",
    "            count += 1\n",
    "    return count\n",
    "\n",
    "def find_nearest_restaurant(x, y, restaurants):\n",
    "    d_min = 100000\n",
    "    for res in restaurants.values():\n",
    "        res_x = res[7]; res_y = res[8]\n",
    "        d = calc_xy_distance(x, y, res_x, res_y)\n",
    "        if d<=d_min:\n",
    "            d_min = d\n",
    "    return d_min\n",
    "\n",
    "roi_restaurant_counts = []\n",
    "roi_italian_distances = []\n",
    "\n",
    "print('Generating data on location candidates... ', end='')\n",
    "for x, y in zip(roi_xs, roi_ys):\n",
    "    count = count_restaurants_nearby(x, y, restaurants, radius=250)\n",
    "    roi_restaurant_counts.append(count)\n",
    "    distance = find_nearest_restaurant(x, y, italian_restaurants)\n",
    "    roi_italian_distances.append(distance)\n",
    "print('done.')\n"
   ]
  },
  {
   "cell_type": "code",
   "execution_count": null,
   "metadata": {},
   "outputs": [],
   "source": [
    "# Let's put this into dataframe\n",
    "df_roi_locations = pd.DataFrame({'Latitude':roi_latitudes,\n",
    "                                 'Longitude':roi_longitudes,\n",
    "                                 'X':roi_xs,\n",
    "                                 'Y':roi_ys,\n",
    "                                 'Restaurants nearby':roi_restaurant_counts,\n",
    "                                 'Distance to Italian restaurant':roi_italian_distances})\n",
    "\n",
    "df_roi_locations.head(10)"
   ]
  },
  {
   "cell_type": "markdown",
   "metadata": {},
   "source": [
    "OK. Let us now **filter** those locations: we're interested only in **locations with no more than two restaurants in radius of 250 meters**, and **no Italian restaurants in radius of 400 meters**."
   ]
  },
  {
   "cell_type": "code",
   "execution_count": null,
   "metadata": {},
   "outputs": [],
   "source": [
    "good_res_count = np.array((df_roi_locations['Restaurants nearby']<=2))\n",
    "print('Locations with no more than two restaurants nearby:', good_res_count.sum())\n",
    "\n",
    "good_ita_distance = np.array(df_roi_locations['Distance to Italian restaurant']>=400)\n",
    "print('Locations with no Italian restaurants within 400m:', good_ita_distance.sum())\n",
    "\n",
    "good_locations = np.logical_and(good_res_count, good_ita_distance)\n",
    "print('Locations with both conditions met:', good_locations.sum())\n",
    "\n",
    "df_good_locations = df_roi_locations[good_locations]\n"
   ]
  },
  {
   "cell_type": "markdown",
   "metadata": {},
   "source": [
    "Let's see how this looks on a map."
   ]
  },
  {
   "cell_type": "code",
   "execution_count": null,
   "metadata": {},
   "outputs": [],
   "source": [
    "good_latitudes = df_good_locations['Latitude'].values\n",
    "good_longitudes = df_good_locations['Longitude'].values\n",
    "\n",
    "good_locations = [[lat, lon] for lat, lon in zip(good_latitudes, good_longitudes)]\n",
    "\n",
    "map_berlin = folium.Map(location=roi_center, zoom_start=14)\n",
    "folium.TileLayer('cartodbpositron').add_to(map_berlin)\n",
    "HeatMap(restaurant_latlons).add_to(map_berlin)\n",
    "folium.Circle(roi_center, radius=2500, color='white', fill=True, fill_opacity=0.6).add_to(map_berlin)\n",
    "folium.Marker(berlin_center).add_to(map_berlin)\n",
    "for lat, lon in zip(good_latitudes, good_longitudes):\n",
    "    folium.CircleMarker([lat, lon], radius=2, color='blue', fill=True, fill_color='blue', fill_opacity=1).add_to(map_berlin) \n",
    "folium.GeoJson(berlin_boroughs, style_function=boroughs_style, name='geojson').add_to(map_berlin)\n",
    "map_berlin"
   ]
  },
  {
   "cell_type": "markdown",
   "metadata": {},
   "source": [
    "Looking good. We now have a bunch of locations fairly close to Alexanderplatz (mostly in Kreuzberg, Friedrichshain and south-east corner of Mitte boroughs), and we know that each of those locations has no more than two restaurants in radius of 250m, and no Italian restaurant closer than 400m. Any of those locations is a potential candidate for a new Italian restaurant, at least based on nearby competition.\n",
    "\n",
    "Let's now show those good locations in a form of heatmap:"
   ]
  },
  {
   "cell_type": "code",
   "execution_count": null,
   "metadata": {},
   "outputs": [],
   "source": [
    "map_berlin = folium.Map(location=roi_center, zoom_start=14)\n",
    "HeatMap(good_locations, radius=25).add_to(map_berlin)\n",
    "folium.Marker(berlin_center).add_to(map_berlin)\n",
    "for lat, lon in zip(good_latitudes, good_longitudes):\n",
    "    folium.CircleMarker([lat, lon], radius=2, color='blue', fill=True, fill_color='blue', fill_opacity=1).add_to(map_berlin)\n",
    "folium.GeoJson(berlin_boroughs, style_function=boroughs_style, name='geojson').add_to(map_berlin)\n",
    "map_berlin"
   ]
  },
  {
   "cell_type": "markdown",
   "metadata": {},
   "source": [
    "Looking good. What we have now is a clear indication of zones with low number of restaurants in vicinity, and *no* Italian restaurants at all nearby.\n",
    "\n",
    "Let us now **cluster** those locations to create **centers of zones containing good locations**. Those zones, their centers and addresses will be the final result of our analysis. "
   ]
  },
  {
   "cell_type": "code",
   "execution_count": null,
   "metadata": {},
   "outputs": [],
   "source": [
    "from sklearn.cluster import KMeans\n",
    "\n",
    "number_of_clusters = 15\n",
    "\n",
    "good_xys = df_good_locations[['X', 'Y']].values\n",
    "kmeans = KMeans(n_clusters=number_of_clusters, random_state=0).fit(good_xys)\n",
    "\n",
    "cluster_centers = [xy_to_lonlat(cc[0], cc[1]) for cc in kmeans.cluster_centers_]\n",
    "\n",
    "map_berlin = folium.Map(location=roi_center, zoom_start=14)\n",
    "folium.TileLayer('cartodbpositron').add_to(map_berlin)\n",
    "HeatMap(restaurant_latlons).add_to(map_berlin)\n",
    "folium.Circle(roi_center, radius=2500, color='white', fill=True, fill_opacity=0.4).add_to(map_berlin)\n",
    "folium.Marker(berlin_center).add_to(map_berlin)\n",
    "for lon, lat in cluster_centers:\n",
    "    folium.Circle([lat, lon], radius=500, color='green', fill=True, fill_opacity=0.25).add_to(map_berlin) \n",
    "for lat, lon in zip(good_latitudes, good_longitudes):\n",
    "    folium.CircleMarker([lat, lon], radius=2, color='blue', fill=True, fill_color='blue', fill_opacity=1).add_to(map_berlin)\n",
    "folium.GeoJson(berlin_boroughs, style_function=boroughs_style, name='geojson').add_to(map_berlin)\n",
    "map_berlin"
   ]
  },
  {
   "cell_type": "markdown",
   "metadata": {},
   "source": [
    "Not bad - our clusters represent groupings of most of the candidate locations and cluster centers are placed nicely in the middle of the zones 'rich' with location candidates.\n",
    "\n",
    "Addresses of those cluster centers will be a good starting point for exploring the neighborhoods to find the best possible location based on neighborhood specifics.\n",
    "\n",
    "Let's see those zones on a city map without heatmap, using shaded areas to indicate our clusters:"
   ]
  },
  {
   "cell_type": "code",
   "execution_count": null,
   "metadata": {},
   "outputs": [],
   "source": [
    "map_berlin = folium.Map(location=roi_center, zoom_start=14)\n",
    "folium.Marker(berlin_center).add_to(map_berlin)\n",
    "for lat, lon in zip(good_latitudes, good_longitudes):\n",
    "    folium.Circle([lat, lon], radius=250, color='#00000000', fill=True, fill_color='#0066ff', fill_opacity=0.07).add_to(map_berlin)\n",
    "for lat, lon in zip(good_latitudes, good_longitudes):\n",
    "    folium.CircleMarker([lat, lon], radius=2, color='blue', fill=True, fill_color='blue', fill_opacity=1).add_to(map_berlin)\n",
    "for lon, lat in cluster_centers:\n",
    "    folium.Circle([lat, lon], radius=500, color='green', fill=False).add_to(map_berlin) \n",
    "folium.GeoJson(berlin_boroughs, style_function=boroughs_style, name='geojson').add_to(map_berlin)\n",
    "map_berlin"
   ]
  },
  {
   "cell_type": "markdown",
   "metadata": {},
   "source": [
    "Let's zoom in on candidate areas in **Kreuzberg**:"
   ]
  },
  {
   "cell_type": "code",
   "execution_count": null,
   "metadata": {},
   "outputs": [],
   "source": [
    "map_berlin = folium.Map(location=[52.498972, 13.409591], zoom_start=15)\n",
    "folium.Marker(berlin_center).add_to(map_berlin)\n",
    "for lon, lat in cluster_centers:\n",
    "    folium.Circle([lat, lon], radius=500, color='green', fill=False).add_to(map_berlin) \n",
    "for lat, lon in zip(good_latitudes, good_longitudes):\n",
    "    folium.Circle([lat, lon], radius=250, color='#0000ff00', fill=True, fill_color='#0066ff', fill_opacity=0.07).add_to(map_berlin)\n",
    "for lat, lon in zip(good_latitudes, good_longitudes):\n",
    "    folium.CircleMarker([lat, lon], radius=2, color='blue', fill=True, fill_color='blue', fill_opacity=1).add_to(map_berlin)\n",
    "folium.GeoJson(berlin_boroughs, style_function=boroughs_style, name='geojson').add_to(map_berlin)\n",
    "map_berlin"
   ]
  },
  {
   "cell_type": "markdown",
   "metadata": {},
   "source": [
    "...and candidate areas in **Friedrichshain**:"
   ]
  },
  {
   "cell_type": "code",
   "execution_count": null,
   "metadata": {},
   "outputs": [],
   "source": [
    "map_berlin = folium.Map(location=[52.516347, 13.428403], zoom_start=15)\n",
    "folium.Marker(berlin_center).add_to(map_berlin)\n",
    "for lon, lat in cluster_centers:\n",
    "    folium.Circle([lat, lon], radius=500, color='green', fill=False).add_to(map_berlin) \n",
    "for lat, lon in zip(good_latitudes, good_longitudes):\n",
    "    folium.Circle([lat, lon], radius=250, color='#0000ff00', fill=True, fill_color='#0066ff', fill_opacity=0.07).add_to(map_berlin)\n",
    "for lat, lon in zip(good_latitudes, good_longitudes):\n",
    "    folium.CircleMarker([lat, lon], radius=2, color='blue', fill=True, fill_color='blue', fill_opacity=1).add_to(map_berlin)\n",
    "folium.GeoJson(berlin_boroughs, style_function=boroughs_style, name='geojson').add_to(map_berlin)\n",
    "map_berlin"
   ]
  },
  {
   "cell_type": "markdown",
   "metadata": {},
   "source": [
    "Finaly, let's **reverse geocode those candidate area centers to get the addresses** which can be presented to stakeholders."
   ]
  },
  {
   "cell_type": "code",
   "execution_count": null,
   "metadata": {},
   "outputs": [],
   "source": [
    "candidate_area_addresses = []\n",
    "print('==============================================================')\n",
    "print('Addresses of centers of areas recommended for further analysis')\n",
    "print('==============================================================\\n')\n",
    "for lon, lat in cluster_centers:\n",
    "    addr = get_address(google_api_key, lat, lon).replace(', Germany', '')\n",
    "    candidate_area_addresses.append(addr)    \n",
    "    x, y = lonlat_to_xy(lon, lat)\n",
    "    d = calc_xy_distance(x, y, berlin_center_x, berlin_center_y)\n",
    "    print('{}{} => {:.1f}km from Alexanderplatz'.format(addr, ' '*(50-len(addr)), d/1000))\n",
    "    "
   ]
  },
  {
   "cell_type": "markdown",
   "metadata": {},
   "source": [
    "This concludes our analysis. We have created 15 addresses representing centers of zones containing locations with low number of restaurants and no Italian restaurants nearby, all zones being fairly close to city center (all less than 4km from Alexanderplazt, and about half of those less than 2km from Alexanderplatz). Although zones are shown on map with a radius of ~500 meters (green circles), their shape is actually very irregular and their centers/addresses should be considered only as a starting point for exploring area neighborhoods in search for potential restaurant locations. Most of the zones are located in Kreuzberg and Friedrichshain boroughs, which we have identified as interesting due to being popular with tourists, fairly close to city center and well connected by public transport."
   ]
  },
  {
   "cell_type": "code",
   "execution_count": null,
   "metadata": {},
   "outputs": [],
   "source": [
    "map_berlin = folium.Map(location=roi_center, zoom_start=14)\n",
    "folium.Circle(berlin_center, radius=50, color='red', fill=True, fill_color='red', fill_opacity=1).add_to(map_berlin)\n",
    "for lonlat, addr in zip(cluster_centers, candidate_area_addresses):\n",
    "    folium.Marker([lonlat[1], lonlat[0]], popup=addr).add_to(map_berlin) \n",
    "for lat, lon in zip(good_latitudes, good_longitudes):\n",
    "    folium.Circle([lat, lon], radius=250, color='#0000ff00', fill=True, fill_color='#0066ff', fill_opacity=0.05).add_to(map_berlin)\n",
    "map_berlin"
   ]
  },
  {
   "cell_type": "markdown",
   "metadata": {},
   "source": [
    "## Results and Discussion <a name=\"results\"></a>"
   ]
  },
  {
   "cell_type": "markdown",
   "metadata": {},
   "source": [
    "Our analysis shows that although there is a great number of restaurants in Berlin (~2000 in our initial area of interest which was 12x12km around Alexanderplatz), there are pockets of low restaurant density fairly close to city center. Highest concentration of restaurants was detected north and west from Alexanderplatz, so we focused our attention to areas south, south-east and east, corresponding to boroughs Kreuzberg, Friedrichshain and south-east corner of central Mitte borough. Another borough was identified as potentially interesting (Prenzlauer Berg, north-east from Alexanderplatz), but our attention was focused on Kreuzberg and Friedrichshain which offer a combination of popularity among tourists, closeness to city center, strong socio-economic dynamics *and* a number of pockets of low restaurant density.\n",
    "\n",
    "After directing our attention to this more narrow area of interest (covering approx. 5x5km south-east from Alexanderplatz) we first created a dense grid of location candidates (spaced 100m appart); those locations were then filtered so that those with more than two restaurants in radius of 250m and those with an Italian restaurant closer than 400m were removed.\n",
    "\n",
    "Those location candidates were then clustered to create zones of interest which contain greatest number of location candidates. Addresses of centers of those zones were also generated using reverse geocoding to be used as markers/starting points for more detailed local analysis based on other factors.\n",
    "\n",
    "Result of all this is 15 zones containing largest number of potential new restaurant locations based on number of and distance to existing venues - both restaurants in general and Italian restaurants particularly. This, of course, does not imply that those zones are actually optimal locations for a new restaurant! Purpose of this analysis was to only provide info on areas close to Berlin center but not crowded with existing restaurants (particularly Italian) - it is entirely possible that there is a very good reason for small number of restaurants in any of those areas, reasons which would make them unsuitable for a new restaurant regardless of lack of competition in the area. Recommended zones should therefore be considered only as a starting point for more detailed analysis which could eventually result in location which has not only no nearby competition but also other factors taken into account and all other relevant conditions met."
   ]
  },
  {
   "cell_type": "markdown",
   "metadata": {},
   "source": [
    "## Conclusion <a name=\"conclusion\"></a>"
   ]
  },
  {
   "cell_type": "markdown",
   "metadata": {},
   "source": [
    "Purpose of this project was to identify Berlin areas close to center with low number of restaurants (particularly Italian restaurants) in order to aid stakeholders in narrowing down the search for optimal location for a new Italian restaurant. By calculating restaurant density distribution from Foursquare data we have first identified general boroughs that justify further analysis (Kreuzberg and Friedrichshain), and then generated extensive collection of locations which satisfy some basic requirements regarding existing nearby restaurants. Clustering of those locations was then performed in order to create major zones of interest (containing greatest number of potential locations) and addresses of those zone centers were created to be used as starting points for final exploration by stakeholders.\n",
    "\n",
    "Final decission on optimal restaurant location will be made by stakeholders based on specific characteristics of neighborhoods and locations in every recommended zone, taking into consideration additional factors like attractiveness of each location (proximity to park or water), levels of noise / proximity to major roads, real estate availability, prices, social and economic dynamics of every neighborhood etc."
   ]
  }
 ],
 "metadata": {
  "kernelspec": {
   "display_name": "Python 3",
   "language": "python",
   "name": "python3"
  },
  "language_info": {
   "codemirror_mode": {
    "name": "ipython",
    "version": 3
   },
   "file_extension": ".py",
   "mimetype": "text/x-python",
   "name": "python",
   "nbconvert_exporter": "python",
   "pygments_lexer": "ipython3",
   "version": "3.7.2"
  }
 },
 "nbformat": 4,
 "nbformat_minor": 1
}
